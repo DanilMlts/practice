{
  "cells": [
    {
      "cell_type": "markdown",
      "id": "09a9af24",
      "metadata": {
        "id": "09a9af24"
      },
      "source": [
        "# Разведочный анализ данных: Data Cleaning. Практическая работа"
      ]
    },
    {
      "cell_type": "markdown",
      "id": "7d354813",
      "metadata": {
        "id": "7d354813"
      },
      "source": [
        "## Цели практической работы\n",
        "* Потренироваться выявлять и заполнять пропущенные значения в данных.\n",
        "* Потренироваться преобразовывать типы данных.\n",
        "* Потренироваться выявлять и обрабатывать аномальные значения в данных.\n",
        "* Подготовить датафрейм к этапу генерации признаков.\n",
        "\n"
      ]
    },
    {
      "cell_type": "markdown",
      "id": "fa433432",
      "metadata": {
        "id": "fa433432"
      },
      "source": [
        "## Задача\n",
        "\n",
        "В этой практической работе вы продолжите исследовать и готовить данные для этапа моделирования: заполнять пропущенные значения в некоторых переменных, изменять типы данных и обрабатывать выбросы.\n",
        "\n",
        "Напомним, что вы работаете с небольшой выборкой из коллекции подержанных автомобилей, выставленных на продажу в Соединённых Штатах. На этих данных вы построите первую модель классификации, определяющую категорию цены подержанного автомобиля в зависимости от характеристик транспортного средства.\n",
        "\n",
        "## Описание датасета:\n",
        "- `id`: идентификатор записи;\n",
        "- `url`: URL записи о продаже;\n",
        "- `region`: регион;\n",
        "- `region_url`: URL региона;\n",
        "- `price`: стоимость;\n",
        "- `year`: год выпуска;\n",
        "- `manufacturer`: производитель;\n",
        "- `model`: модель;\n",
        "- `condition`: состояние;\n",
        "- `cylinders`: количество цилиндров;\n",
        "- `fuel`: тип топлива;\n",
        "- `odometer`: количество пройденных миль;\n",
        "- `title_status`: статус;\n",
        "- `transmission`: коробка передач;\n",
        "- `VIN`: идентификационный номер;\n",
        "- `drive`: тип привода;\n",
        "- `size`: размер;\n",
        "- `type`: кузов;\n",
        "- `paint_color`: цвет;\n",
        "- `image_url`: URL изображения;\n",
        "- `description`: указанное описание;\n",
        "- `county`: страна;\n",
        "- `state`: штат;\n",
        "- `lat`: широта;\n",
        "- `long`: долгота;\n",
        "- `posting_date`: дата размещения объявления о продаже;\n",
        "- `price_category`: категория цены.\n"
      ]
    },
    {
      "cell_type": "markdown",
      "id": "a2bd5ce3",
      "metadata": {
        "id": "a2bd5ce3"
      },
      "source": [
        "## Что входит в практическую работу\n",
        "1. Загрузить датасет и ознакомиться с ним.\n",
        "2. Исследовать переменные датасета на наличие пропусков.\n",
        "3. Обработать пропуски в зависимости от типа переменной.\n",
        "4. Изменить типы данных.\n",
        "5. Исследовать данные на аномальные значения и скорректировать выбросы."
      ]
    },
    {
      "cell_type": "markdown",
      "id": "9320387e",
      "metadata": {
        "id": "9320387e"
      },
      "source": [
        "## Что оценивается\n",
        "- Программа выдаёт верный ответ на заданном наборе данных.\n",
        "- Описаны причины выбранного решения, если требуется.\n",
        "- Код читабелен: переменным даны осмысленные названия, отступы и правила расстановки пробелов соблюдены.\n",
        "- Репозиторий проекта содержит осмысленные коммиты с конкретными реализованными фичами, ветки названы согласно назначению, лишние файлы не хранятся в репозитории.\n",
        "- В репозитории проекта соблюдена иерархия директорий согласно списку модулей и содержащихся в них видеоматериалов.\n",
        "- Репозиторий проекта содержит файлы с данными, полученными в результате выполнения практической работы.\n",
        "\n",
        "\n"
      ]
    },
    {
      "cell_type": "markdown",
      "id": "fe2c1c43",
      "metadata": {
        "id": "fe2c1c43"
      },
      "source": [
        "## Как отправить работу на проверку\n",
        "Сдайте практическую работу этого модуля через систему контроля версий Git сервиса Skillbox GitLab. После загрузки работы на проверку напишите об этом в личном кабинете своему куратору."
      ]
    },
    {
      "cell_type": "markdown",
      "id": "e572b1e8",
      "metadata": {
        "id": "e572b1e8"
      },
      "source": [
        "## Обязательные задачи"
      ]
    },
    {
      "cell_type": "code",
      "execution_count": 113,
      "id": "f8b7e7f2",
      "metadata": {
        "ExecuteTime": {
          "end_time": "2022-01-27T23:32:05.731039Z",
          "start_time": "2022-01-27T23:32:05.727108Z"
        },
        "id": "f8b7e7f2"
      },
      "outputs": [],
      "source": [
        "import pandas as pd \n",
        "import missingno as msno\n",
        "import math"
      ]
    },
    {
      "cell_type": "markdown",
      "id": "9e9007d5",
      "metadata": {
        "ExecuteTime": {
          "end_time": "2022-01-28T23:12:51.463454Z",
          "start_time": "2022-01-28T23:12:51.458075Z"
        },
        "id": "9e9007d5"
      },
      "source": [
        "### Задача 1. Загрузка датасета и ознакомление с количеством пропущенных значений\n",
        "\n",
        "1. Загрузите датасет из `data/df_out.csv` и выведите первые пять записей.\n",
        "\n"
      ]
    },
    {
      "cell_type": "code",
      "execution_count": 4,
      "id": "13da54e4",
      "metadata": {
        "ExecuteTime": {
          "end_time": "2022-01-28T23:13:27.330926Z",
          "start_time": "2022-01-28T23:13:27.327741Z"
        },
        "id": "13da54e4",
        "colab": {
          "base_uri": "https://localhost:8080/",
          "height": 565
        },
        "outputId": "9f9f8322-c859-4283-b517-c4ff4a81c34b"
      },
      "outputs": [
        {
          "output_type": "execute_result",
          "data": {
            "text/plain": [
              "           id                                                url  \\\n",
              "0  7308295377  https://chattanooga.craigslist.org/ctd/d/chatt...   \n",
              "1  7316380095  https://newjersey.craigslist.org/ctd/d/carlsta...   \n",
              "2  7313733749  https://reno.craigslist.org/ctd/d/atlanta-2017...   \n",
              "3  7308210929  https://fayetteville.craigslist.org/ctd/d/rale...   \n",
              "4  7316474668  https://newyork.craigslist.org/lgi/cto/d/baldw...   \n",
              "\n",
              "          region                           region_url  price    year  \\\n",
              "0    chattanooga   https://chattanooga.craigslist.org  54990  2020.0   \n",
              "1   north jersey     https://newjersey.craigslist.org  16942  2016.0   \n",
              "2   reno / tahoe          https://reno.craigslist.org  35590  2017.0   \n",
              "3   fayetteville  https://fayetteville.craigslist.org  14500  2013.0   \n",
              "4  new york city       https://newyork.craigslist.org  21800  2021.0   \n",
              "\n",
              "  manufacturer                   model    fuel  odometer title_status  \\\n",
              "0          ram  2500 crew cab big horn  diesel     27442        clean   \n",
              "1         ford    explorer 4wd 4dr xlt     NaN     60023        clean   \n",
              "2   volkswagen        golf r hatchback     gas     14048        clean   \n",
              "3       toyota                    rav4     gas    117291        clean   \n",
              "4       nissan                  altima     gas      8000        clean   \n",
              "\n",
              "  transmission                                          image_url  \\\n",
              "0        other  https://images.craigslist.org/00N0N_1xMPvfxRAI...   \n",
              "1    automatic  https://images.craigslist.org/00x0x_26jl9F0cnL...   \n",
              "2        other  https://images.craigslist.org/00y0y_eeZjWeiSfb...   \n",
              "3    automatic  https://images.craigslist.org/00606_iGe5iXidib...   \n",
              "4    automatic  https://images.craigslist.org/00V0V_3pSOiPZ3Sd...   \n",
              "\n",
              "                                         description state        lat  \\\n",
              "0  Carvana is the safer way to buy a car During t...    tn  35.060000   \n",
              "1  ***Call Us for more information at: 201-635-14...    nj  40.821805   \n",
              "2  Carvana is the safer way to buy a car During t...    ca  33.779214   \n",
              "3  2013 Toyota RAV4 XLE 4dr SUV     Offered by: R...    nc  35.715954   \n",
              "4  2021 Nissan Altima Sv with Only 8 K Miles Titl...    ny  40.654800   \n",
              "\n",
              "        long              posting_date price_category  \\\n",
              "0 -85.250000  2021-04-17T12:30:50-0400           high   \n",
              "1 -74.061962  2021-05-03T15:40:21-0400         medium   \n",
              "2 -84.411811  2021-04-28T03:52:20-0700           high   \n",
              "3 -78.655304  2021-04-17T10:08:57-0400         medium   \n",
              "4 -73.609700  2021-05-03T18:32:06-0400         medium   \n",
              "\n",
              "                        date  \n",
              "0  2021-04-17 16:30:50+00:00  \n",
              "1  2021-05-03 19:40:21+00:00  \n",
              "2  2021-04-28 10:52:20+00:00  \n",
              "3  2021-04-17 14:08:57+00:00  \n",
              "4  2021-05-03 22:32:06+00:00  "
            ],
            "text/html": [
              "\n",
              "  <div id=\"df-a79daf12-1e8c-4d36-bdf0-d70426c4f7cd\">\n",
              "    <div class=\"colab-df-container\">\n",
              "      <div>\n",
              "<style scoped>\n",
              "    .dataframe tbody tr th:only-of-type {\n",
              "        vertical-align: middle;\n",
              "    }\n",
              "\n",
              "    .dataframe tbody tr th {\n",
              "        vertical-align: top;\n",
              "    }\n",
              "\n",
              "    .dataframe thead th {\n",
              "        text-align: right;\n",
              "    }\n",
              "</style>\n",
              "<table border=\"1\" class=\"dataframe\">\n",
              "  <thead>\n",
              "    <tr style=\"text-align: right;\">\n",
              "      <th></th>\n",
              "      <th>id</th>\n",
              "      <th>url</th>\n",
              "      <th>region</th>\n",
              "      <th>region_url</th>\n",
              "      <th>price</th>\n",
              "      <th>year</th>\n",
              "      <th>manufacturer</th>\n",
              "      <th>model</th>\n",
              "      <th>fuel</th>\n",
              "      <th>odometer</th>\n",
              "      <th>title_status</th>\n",
              "      <th>transmission</th>\n",
              "      <th>image_url</th>\n",
              "      <th>description</th>\n",
              "      <th>state</th>\n",
              "      <th>lat</th>\n",
              "      <th>long</th>\n",
              "      <th>posting_date</th>\n",
              "      <th>price_category</th>\n",
              "      <th>date</th>\n",
              "    </tr>\n",
              "  </thead>\n",
              "  <tbody>\n",
              "    <tr>\n",
              "      <th>0</th>\n",
              "      <td>7308295377</td>\n",
              "      <td>https://chattanooga.craigslist.org/ctd/d/chatt...</td>\n",
              "      <td>chattanooga</td>\n",
              "      <td>https://chattanooga.craigslist.org</td>\n",
              "      <td>54990</td>\n",
              "      <td>2020.0</td>\n",
              "      <td>ram</td>\n",
              "      <td>2500 crew cab big horn</td>\n",
              "      <td>diesel</td>\n",
              "      <td>27442</td>\n",
              "      <td>clean</td>\n",
              "      <td>other</td>\n",
              "      <td>https://images.craigslist.org/00N0N_1xMPvfxRAI...</td>\n",
              "      <td>Carvana is the safer way to buy a car During t...</td>\n",
              "      <td>tn</td>\n",
              "      <td>35.060000</td>\n",
              "      <td>-85.250000</td>\n",
              "      <td>2021-04-17T12:30:50-0400</td>\n",
              "      <td>high</td>\n",
              "      <td>2021-04-17 16:30:50+00:00</td>\n",
              "    </tr>\n",
              "    <tr>\n",
              "      <th>1</th>\n",
              "      <td>7316380095</td>\n",
              "      <td>https://newjersey.craigslist.org/ctd/d/carlsta...</td>\n",
              "      <td>north jersey</td>\n",
              "      <td>https://newjersey.craigslist.org</td>\n",
              "      <td>16942</td>\n",
              "      <td>2016.0</td>\n",
              "      <td>ford</td>\n",
              "      <td>explorer 4wd 4dr xlt</td>\n",
              "      <td>NaN</td>\n",
              "      <td>60023</td>\n",
              "      <td>clean</td>\n",
              "      <td>automatic</td>\n",
              "      <td>https://images.craigslist.org/00x0x_26jl9F0cnL...</td>\n",
              "      <td>***Call Us for more information at: 201-635-14...</td>\n",
              "      <td>nj</td>\n",
              "      <td>40.821805</td>\n",
              "      <td>-74.061962</td>\n",
              "      <td>2021-05-03T15:40:21-0400</td>\n",
              "      <td>medium</td>\n",
              "      <td>2021-05-03 19:40:21+00:00</td>\n",
              "    </tr>\n",
              "    <tr>\n",
              "      <th>2</th>\n",
              "      <td>7313733749</td>\n",
              "      <td>https://reno.craigslist.org/ctd/d/atlanta-2017...</td>\n",
              "      <td>reno / tahoe</td>\n",
              "      <td>https://reno.craigslist.org</td>\n",
              "      <td>35590</td>\n",
              "      <td>2017.0</td>\n",
              "      <td>volkswagen</td>\n",
              "      <td>golf r hatchback</td>\n",
              "      <td>gas</td>\n",
              "      <td>14048</td>\n",
              "      <td>clean</td>\n",
              "      <td>other</td>\n",
              "      <td>https://images.craigslist.org/00y0y_eeZjWeiSfb...</td>\n",
              "      <td>Carvana is the safer way to buy a car During t...</td>\n",
              "      <td>ca</td>\n",
              "      <td>33.779214</td>\n",
              "      <td>-84.411811</td>\n",
              "      <td>2021-04-28T03:52:20-0700</td>\n",
              "      <td>high</td>\n",
              "      <td>2021-04-28 10:52:20+00:00</td>\n",
              "    </tr>\n",
              "    <tr>\n",
              "      <th>3</th>\n",
              "      <td>7308210929</td>\n",
              "      <td>https://fayetteville.craigslist.org/ctd/d/rale...</td>\n",
              "      <td>fayetteville</td>\n",
              "      <td>https://fayetteville.craigslist.org</td>\n",
              "      <td>14500</td>\n",
              "      <td>2013.0</td>\n",
              "      <td>toyota</td>\n",
              "      <td>rav4</td>\n",
              "      <td>gas</td>\n",
              "      <td>117291</td>\n",
              "      <td>clean</td>\n",
              "      <td>automatic</td>\n",
              "      <td>https://images.craigslist.org/00606_iGe5iXidib...</td>\n",
              "      <td>2013 Toyota RAV4 XLE 4dr SUV     Offered by: R...</td>\n",
              "      <td>nc</td>\n",
              "      <td>35.715954</td>\n",
              "      <td>-78.655304</td>\n",
              "      <td>2021-04-17T10:08:57-0400</td>\n",
              "      <td>medium</td>\n",
              "      <td>2021-04-17 14:08:57+00:00</td>\n",
              "    </tr>\n",
              "    <tr>\n",
              "      <th>4</th>\n",
              "      <td>7316474668</td>\n",
              "      <td>https://newyork.craigslist.org/lgi/cto/d/baldw...</td>\n",
              "      <td>new york city</td>\n",
              "      <td>https://newyork.craigslist.org</td>\n",
              "      <td>21800</td>\n",
              "      <td>2021.0</td>\n",
              "      <td>nissan</td>\n",
              "      <td>altima</td>\n",
              "      <td>gas</td>\n",
              "      <td>8000</td>\n",
              "      <td>clean</td>\n",
              "      <td>automatic</td>\n",
              "      <td>https://images.craigslist.org/00V0V_3pSOiPZ3Sd...</td>\n",
              "      <td>2021 Nissan Altima Sv with Only 8 K Miles Titl...</td>\n",
              "      <td>ny</td>\n",
              "      <td>40.654800</td>\n",
              "      <td>-73.609700</td>\n",
              "      <td>2021-05-03T18:32:06-0400</td>\n",
              "      <td>medium</td>\n",
              "      <td>2021-05-03 22:32:06+00:00</td>\n",
              "    </tr>\n",
              "  </tbody>\n",
              "</table>\n",
              "</div>\n",
              "      <button class=\"colab-df-convert\" onclick=\"convertToInteractive('df-a79daf12-1e8c-4d36-bdf0-d70426c4f7cd')\"\n",
              "              title=\"Convert this dataframe to an interactive table.\"\n",
              "              style=\"display:none;\">\n",
              "        \n",
              "  <svg xmlns=\"http://www.w3.org/2000/svg\" height=\"24px\"viewBox=\"0 0 24 24\"\n",
              "       width=\"24px\">\n",
              "    <path d=\"M0 0h24v24H0V0z\" fill=\"none\"/>\n",
              "    <path d=\"M18.56 5.44l.94 2.06.94-2.06 2.06-.94-2.06-.94-.94-2.06-.94 2.06-2.06.94zm-11 1L8.5 8.5l.94-2.06 2.06-.94-2.06-.94L8.5 2.5l-.94 2.06-2.06.94zm10 10l.94 2.06.94-2.06 2.06-.94-2.06-.94-.94-2.06-.94 2.06-2.06.94z\"/><path d=\"M17.41 7.96l-1.37-1.37c-.4-.4-.92-.59-1.43-.59-.52 0-1.04.2-1.43.59L10.3 9.45l-7.72 7.72c-.78.78-.78 2.05 0 2.83L4 21.41c.39.39.9.59 1.41.59.51 0 1.02-.2 1.41-.59l7.78-7.78 2.81-2.81c.8-.78.8-2.07 0-2.86zM5.41 20L4 18.59l7.72-7.72 1.47 1.35L5.41 20z\"/>\n",
              "  </svg>\n",
              "      </button>\n",
              "      \n",
              "  <style>\n",
              "    .colab-df-container {\n",
              "      display:flex;\n",
              "      flex-wrap:wrap;\n",
              "      gap: 12px;\n",
              "    }\n",
              "\n",
              "    .colab-df-convert {\n",
              "      background-color: #E8F0FE;\n",
              "      border: none;\n",
              "      border-radius: 50%;\n",
              "      cursor: pointer;\n",
              "      display: none;\n",
              "      fill: #1967D2;\n",
              "      height: 32px;\n",
              "      padding: 0 0 0 0;\n",
              "      width: 32px;\n",
              "    }\n",
              "\n",
              "    .colab-df-convert:hover {\n",
              "      background-color: #E2EBFA;\n",
              "      box-shadow: 0px 1px 2px rgba(60, 64, 67, 0.3), 0px 1px 3px 1px rgba(60, 64, 67, 0.15);\n",
              "      fill: #174EA6;\n",
              "    }\n",
              "\n",
              "    [theme=dark] .colab-df-convert {\n",
              "      background-color: #3B4455;\n",
              "      fill: #D2E3FC;\n",
              "    }\n",
              "\n",
              "    [theme=dark] .colab-df-convert:hover {\n",
              "      background-color: #434B5C;\n",
              "      box-shadow: 0px 1px 3px 1px rgba(0, 0, 0, 0.15);\n",
              "      filter: drop-shadow(0px 1px 2px rgba(0, 0, 0, 0.3));\n",
              "      fill: #FFFFFF;\n",
              "    }\n",
              "  </style>\n",
              "\n",
              "      <script>\n",
              "        const buttonEl =\n",
              "          document.querySelector('#df-a79daf12-1e8c-4d36-bdf0-d70426c4f7cd button.colab-df-convert');\n",
              "        buttonEl.style.display =\n",
              "          google.colab.kernel.accessAllowed ? 'block' : 'none';\n",
              "\n",
              "        async function convertToInteractive(key) {\n",
              "          const element = document.querySelector('#df-a79daf12-1e8c-4d36-bdf0-d70426c4f7cd');\n",
              "          const dataTable =\n",
              "            await google.colab.kernel.invokeFunction('convertToInteractive',\n",
              "                                                     [key], {});\n",
              "          if (!dataTable) return;\n",
              "\n",
              "          const docLinkHtml = 'Like what you see? Visit the ' +\n",
              "            '<a target=\"_blank\" href=https://colab.research.google.com/notebooks/data_table.ipynb>data table notebook</a>'\n",
              "            + ' to learn more about interactive tables.';\n",
              "          element.innerHTML = '';\n",
              "          dataTable['output_type'] = 'display_data';\n",
              "          await google.colab.output.renderOutput(dataTable, element);\n",
              "          const docLink = document.createElement('div');\n",
              "          docLink.innerHTML = docLinkHtml;\n",
              "          element.appendChild(docLink);\n",
              "        }\n",
              "      </script>\n",
              "    </div>\n",
              "  </div>\n",
              "  "
            ]
          },
          "metadata": {},
          "execution_count": 4
        }
      ],
      "source": [
        "file = 'df_out.csv'\n",
        "df = pd.read_csv(file)\n",
        "df.head()"
      ]
    },
    {
      "cell_type": "markdown",
      "id": "d629aed5",
      "metadata": {
        "ExecuteTime": {
          "end_time": "2022-01-29T23:13:02.420132Z",
          "start_time": "2022-01-29T23:13:02.380497Z"
        },
        "id": "d629aed5"
      },
      "source": [
        "2. Выведите информацию о датафрейме и обратите внимание на оставшиеся незаполненные значения.\n"
      ]
    },
    {
      "cell_type": "code",
      "execution_count": 5,
      "id": "4e2fe561",
      "metadata": {
        "ExecuteTime": {
          "end_time": "2022-01-29T23:18:30.950823Z",
          "start_time": "2022-01-29T23:18:30.945640Z"
        },
        "id": "4e2fe561",
        "colab": {
          "base_uri": "https://localhost:8080/"
        },
        "outputId": "a0209236-0bf3-4b4b-fa29-b6bb005abf34"
      },
      "outputs": [
        {
          "output_type": "stream",
          "name": "stdout",
          "text": [
            "<class 'pandas.core.frame.DataFrame'>\n",
            "RangeIndex: 9902 entries, 0 to 9901\n",
            "Data columns (total 20 columns):\n",
            " #   Column          Non-Null Count  Dtype  \n",
            "---  ------          --------------  -----  \n",
            " 0   id              9902 non-null   int64  \n",
            " 1   url             9902 non-null   object \n",
            " 2   region          9902 non-null   object \n",
            " 3   region_url      9902 non-null   object \n",
            " 4   price           9902 non-null   int64  \n",
            " 5   year            9868 non-null   float64\n",
            " 6   manufacturer    9902 non-null   object \n",
            " 7   model           9776 non-null   object \n",
            " 8   fuel            9841 non-null   object \n",
            " 9   odometer        9902 non-null   int64  \n",
            " 10  title_status    9738 non-null   object \n",
            " 11  transmission    9902 non-null   object \n",
            " 12  image_url       9902 non-null   object \n",
            " 13  description     9902 non-null   object \n",
            " 14  state           9902 non-null   object \n",
            " 15  lat             9902 non-null   float64\n",
            " 16  long            9902 non-null   float64\n",
            " 17  posting_date    9902 non-null   object \n",
            " 18  price_category  9902 non-null   object \n",
            " 19  date            9902 non-null   object \n",
            "dtypes: float64(3), int64(3), object(14)\n",
            "memory usage: 1.5+ MB\n"
          ]
        }
      ],
      "source": [
        "df.info()"
      ]
    },
    {
      "cell_type": "markdown",
      "id": "cda8be60",
      "metadata": {
        "id": "cda8be60"
      },
      "source": [
        "3. Выведите количество полностью заполненных объектов и их процент из всей выборки. Воспользуйтесь материалами из видео.\n"
      ]
    },
    {
      "cell_type": "code",
      "execution_count": 6,
      "id": "c891d00d",
      "metadata": {
        "ExecuteTime": {
          "end_time": "2022-01-29T23:18:38.209381Z",
          "start_time": "2022-01-29T23:18:38.206248Z"
        },
        "id": "c891d00d",
        "colab": {
          "base_uri": "https://localhost:8080/"
        },
        "outputId": "88521b8a-ebd9-4feb-d95d-848940bd7d33"
      },
      "outputs": [
        {
          "output_type": "stream",
          "name": "stdout",
          "text": [
            "Количество полностью заполненных объектов:\n",
            "9543\n",
            "Их процент из всей выборки:\n",
            "96.37\n"
          ]
        }
      ],
      "source": [
        "print(f'Количество полностью заполненных объектов:\\n{len(df.dropna())}')\n",
        "print(f'Их процент из всей выборки:\\n{round(len(df.dropna())/len(df)*100, 2)}')"
      ]
    },
    {
      "cell_type": "markdown",
      "id": "c86d53f3",
      "metadata": {
        "id": "c86d53f3"
      },
      "source": [
        "4. Сохраните в переменную и выведите процент пропущенных значений для каждого признака, отсортируйте признаки по убыванию процента пропущенных значений. Воспользуйтесь материалами из видео и не забудьте передать верный параметр сортировки.\n"
      ]
    },
    {
      "cell_type": "code",
      "execution_count": 7,
      "id": "28407af8",
      "metadata": {
        "id": "28407af8",
        "colab": {
          "base_uri": "https://localhost:8080/"
        },
        "outputId": "812d224d-77dd-440c-9d3d-094f62cf0a45"
      },
      "outputs": [
        {
          "output_type": "execute_result",
          "data": {
            "text/plain": [
              "title_status      1.656\n",
              "model             1.272\n",
              "fuel              0.616\n",
              "year              0.343\n",
              "image_url         0.000\n",
              "price_category    0.000\n",
              "posting_date      0.000\n",
              "long              0.000\n",
              "lat               0.000\n",
              "state             0.000\n",
              "description       0.000\n",
              "id                0.000\n",
              "transmission      0.000\n",
              "url               0.000\n",
              "odometer          0.000\n",
              "manufacturer      0.000\n",
              "price             0.000\n",
              "region_url        0.000\n",
              "region            0.000\n",
              "date              0.000\n",
              "dtype: float64"
            ]
          },
          "metadata": {},
          "execution_count": 7
        }
      ],
      "source": [
        "perNa = round(df.isna().sum()/len(df)*100, 3).sort_values(ascending=False)\n",
        "perNa"
      ]
    },
    {
      "cell_type": "markdown",
      "id": "4ccc59b6",
      "metadata": {
        "id": "4ccc59b6"
      },
      "source": [
        "5. Выведите список всех признаков, в которых имеются пропущенные значения. Воспользуйтесь результатом вывода предыдущего задания, чтобы отсортировать признаки, подходящие под условие."
      ]
    },
    {
      "cell_type": "code",
      "execution_count": 8,
      "id": "129e697e",
      "metadata": {
        "ExecuteTime": {
          "end_time": "2022-01-29T23:20:06.563386Z",
          "start_time": "2022-01-29T23:20:06.559721Z"
        },
        "id": "129e697e",
        "colab": {
          "base_uri": "https://localhost:8080/",
          "height": 175
        },
        "outputId": "8a9d840b-470f-46cf-fafb-ac5da8c95623"
      },
      "outputs": [
        {
          "output_type": "execute_result",
          "data": {
            "text/plain": [
              "               vals\n",
              "title_status  1.656\n",
              "model         1.272\n",
              "fuel          0.616\n",
              "year          0.343"
            ],
            "text/html": [
              "\n",
              "  <div id=\"df-03a71ff1-3f2b-4f0d-b32e-91a49415d0e5\">\n",
              "    <div class=\"colab-df-container\">\n",
              "      <div>\n",
              "<style scoped>\n",
              "    .dataframe tbody tr th:only-of-type {\n",
              "        vertical-align: middle;\n",
              "    }\n",
              "\n",
              "    .dataframe tbody tr th {\n",
              "        vertical-align: top;\n",
              "    }\n",
              "\n",
              "    .dataframe thead th {\n",
              "        text-align: right;\n",
              "    }\n",
              "</style>\n",
              "<table border=\"1\" class=\"dataframe\">\n",
              "  <thead>\n",
              "    <tr style=\"text-align: right;\">\n",
              "      <th></th>\n",
              "      <th>vals</th>\n",
              "    </tr>\n",
              "  </thead>\n",
              "  <tbody>\n",
              "    <tr>\n",
              "      <th>title_status</th>\n",
              "      <td>1.656</td>\n",
              "    </tr>\n",
              "    <tr>\n",
              "      <th>model</th>\n",
              "      <td>1.272</td>\n",
              "    </tr>\n",
              "    <tr>\n",
              "      <th>fuel</th>\n",
              "      <td>0.616</td>\n",
              "    </tr>\n",
              "    <tr>\n",
              "      <th>year</th>\n",
              "      <td>0.343</td>\n",
              "    </tr>\n",
              "  </tbody>\n",
              "</table>\n",
              "</div>\n",
              "      <button class=\"colab-df-convert\" onclick=\"convertToInteractive('df-03a71ff1-3f2b-4f0d-b32e-91a49415d0e5')\"\n",
              "              title=\"Convert this dataframe to an interactive table.\"\n",
              "              style=\"display:none;\">\n",
              "        \n",
              "  <svg xmlns=\"http://www.w3.org/2000/svg\" height=\"24px\"viewBox=\"0 0 24 24\"\n",
              "       width=\"24px\">\n",
              "    <path d=\"M0 0h24v24H0V0z\" fill=\"none\"/>\n",
              "    <path d=\"M18.56 5.44l.94 2.06.94-2.06 2.06-.94-2.06-.94-.94-2.06-.94 2.06-2.06.94zm-11 1L8.5 8.5l.94-2.06 2.06-.94-2.06-.94L8.5 2.5l-.94 2.06-2.06.94zm10 10l.94 2.06.94-2.06 2.06-.94-2.06-.94-.94-2.06-.94 2.06-2.06.94z\"/><path d=\"M17.41 7.96l-1.37-1.37c-.4-.4-.92-.59-1.43-.59-.52 0-1.04.2-1.43.59L10.3 9.45l-7.72 7.72c-.78.78-.78 2.05 0 2.83L4 21.41c.39.39.9.59 1.41.59.51 0 1.02-.2 1.41-.59l7.78-7.78 2.81-2.81c.8-.78.8-2.07 0-2.86zM5.41 20L4 18.59l7.72-7.72 1.47 1.35L5.41 20z\"/>\n",
              "  </svg>\n",
              "      </button>\n",
              "      \n",
              "  <style>\n",
              "    .colab-df-container {\n",
              "      display:flex;\n",
              "      flex-wrap:wrap;\n",
              "      gap: 12px;\n",
              "    }\n",
              "\n",
              "    .colab-df-convert {\n",
              "      background-color: #E8F0FE;\n",
              "      border: none;\n",
              "      border-radius: 50%;\n",
              "      cursor: pointer;\n",
              "      display: none;\n",
              "      fill: #1967D2;\n",
              "      height: 32px;\n",
              "      padding: 0 0 0 0;\n",
              "      width: 32px;\n",
              "    }\n",
              "\n",
              "    .colab-df-convert:hover {\n",
              "      background-color: #E2EBFA;\n",
              "      box-shadow: 0px 1px 2px rgba(60, 64, 67, 0.3), 0px 1px 3px 1px rgba(60, 64, 67, 0.15);\n",
              "      fill: #174EA6;\n",
              "    }\n",
              "\n",
              "    [theme=dark] .colab-df-convert {\n",
              "      background-color: #3B4455;\n",
              "      fill: #D2E3FC;\n",
              "    }\n",
              "\n",
              "    [theme=dark] .colab-df-convert:hover {\n",
              "      background-color: #434B5C;\n",
              "      box-shadow: 0px 1px 3px 1px rgba(0, 0, 0, 0.15);\n",
              "      filter: drop-shadow(0px 1px 2px rgba(0, 0, 0, 0.3));\n",
              "      fill: #FFFFFF;\n",
              "    }\n",
              "  </style>\n",
              "\n",
              "      <script>\n",
              "        const buttonEl =\n",
              "          document.querySelector('#df-03a71ff1-3f2b-4f0d-b32e-91a49415d0e5 button.colab-df-convert');\n",
              "        buttonEl.style.display =\n",
              "          google.colab.kernel.accessAllowed ? 'block' : 'none';\n",
              "\n",
              "        async function convertToInteractive(key) {\n",
              "          const element = document.querySelector('#df-03a71ff1-3f2b-4f0d-b32e-91a49415d0e5');\n",
              "          const dataTable =\n",
              "            await google.colab.kernel.invokeFunction('convertToInteractive',\n",
              "                                                     [key], {});\n",
              "          if (!dataTable) return;\n",
              "\n",
              "          const docLinkHtml = 'Like what you see? Visit the ' +\n",
              "            '<a target=\"_blank\" href=https://colab.research.google.com/notebooks/data_table.ipynb>data table notebook</a>'\n",
              "            + ' to learn more about interactive tables.';\n",
              "          element.innerHTML = '';\n",
              "          dataTable['output_type'] = 'display_data';\n",
              "          await google.colab.output.renderOutput(dataTable, element);\n",
              "          const docLink = document.createElement('div');\n",
              "          docLink.innerHTML = docLinkHtml;\n",
              "          element.appendChild(docLink);\n",
              "        }\n",
              "      </script>\n",
              "    </div>\n",
              "  </div>\n",
              "  "
            ]
          },
          "metadata": {},
          "execution_count": 8
        }
      ],
      "source": [
        "perNa.to_frame('vals').query('vals!=0')"
      ]
    },
    {
      "cell_type": "markdown",
      "id": "d36a4f67",
      "metadata": {
        "id": "d36a4f67"
      },
      "source": [
        "### Задача 2. Обработка пропусков в годе выпуска автомобиля\n",
        "\n",
        "1. Выведите количество значений для года выпуска автомобиля, включая пропущенные значения.\n"
      ]
    },
    {
      "cell_type": "code",
      "execution_count": 9,
      "id": "60f89e21",
      "metadata": {
        "ExecuteTime": {
          "end_time": "2022-01-29T00:04:53.648430Z",
          "start_time": "2022-01-29T00:04:53.630774Z"
        },
        "id": "60f89e21",
        "colab": {
          "base_uri": "https://localhost:8080/"
        },
        "outputId": "9f496921-b705-4927-b886-d43d43b12f8c"
      },
      "outputs": [
        {
          "output_type": "execute_result",
          "data": {
            "text/plain": [
              "2017.0    808\n",
              "2018.0    799\n",
              "2016.0    733\n",
              "2013.0    685\n",
              "2015.0    664\n",
              "         ... \n",
              "1927.0      1\n",
              "1958.0      1\n",
              "1941.0      1\n",
              "1935.0      1\n",
              "1954.0      1\n",
              "Name: year, Length: 90, dtype: int64"
            ]
          },
          "metadata": {},
          "execution_count": 9
        }
      ],
      "source": [
        "df.year.value_counts(dropna=False)"
      ]
    },
    {
      "cell_type": "markdown",
      "id": "6e474f07",
      "metadata": {
        "id": "6e474f07"
      },
      "source": [
        "2. Выведите количество пропущенных значений в годе выпуска автомобиля.\n",
        "\n"
      ]
    },
    {
      "cell_type": "code",
      "execution_count": 10,
      "id": "f16d4a12",
      "metadata": {
        "id": "f16d4a12",
        "colab": {
          "base_uri": "https://localhost:8080/"
        },
        "outputId": "96938b27-4c4c-4cb6-b66b-b6a36c002ab6"
      },
      "outputs": [
        {
          "output_type": "execute_result",
          "data": {
            "text/plain": [
              "34"
            ]
          },
          "metadata": {},
          "execution_count": 10
        }
      ],
      "source": [
        "df.year.isna().sum()"
      ]
    },
    {
      "cell_type": "markdown",
      "id": "9a02ee9b",
      "metadata": {
        "id": "9a02ee9b"
      },
      "source": [
        "3. Выведите описательные статистики для года выпуска автомобиля.\n"
      ]
    },
    {
      "cell_type": "code",
      "execution_count": 11,
      "id": "f9977f8d",
      "metadata": {
        "ExecuteTime": {
          "end_time": "2022-01-29T00:04:54.784838Z",
          "start_time": "2022-01-29T00:04:54.779823Z"
        },
        "id": "f9977f8d",
        "colab": {
          "base_uri": "https://localhost:8080/"
        },
        "outputId": "6af414f4-5fa2-4615-c956-1b5021c5c348"
      },
      "outputs": [
        {
          "output_type": "execute_result",
          "data": {
            "text/plain": [
              "count    9868.000000\n",
              "mean     2010.909708\n",
              "std         9.705988\n",
              "min      1915.000000\n",
              "25%      2008.000000\n",
              "50%      2013.000000\n",
              "75%      2017.000000\n",
              "max      2022.000000\n",
              "Name: year, dtype: float64"
            ]
          },
          "metadata": {},
          "execution_count": 11
        }
      ],
      "source": [
        "df['year'].describe()"
      ]
    },
    {
      "cell_type": "markdown",
      "id": "c95c1002",
      "metadata": {
        "id": "c95c1002"
      },
      "source": [
        "4. Выведите записи, в которых год выпуска автомобиля не заполнен. Посмотрите на данные и подумайте, какую стратегию обработки значений можно применить.\n"
      ]
    },
    {
      "cell_type": "code",
      "execution_count": 12,
      "id": "98c9ea05",
      "metadata": {
        "id": "98c9ea05",
        "colab": {
          "base_uri": "https://localhost:8080/",
          "height": 1000
        },
        "outputId": "97d23724-c53d-4610-825c-a144c9c4c590"
      },
      "outputs": [
        {
          "output_type": "execute_result",
          "data": {
            "text/plain": [
              "              id                                                url  \\\n",
              "342   7304102133  https://wenatchee.craigslist.org/ctd/d/wenatch...   \n",
              "418   7316337069  https://lasvegas.craigslist.org/ctd/d/scottsda...   \n",
              "423   7315662117  https://westslope.craigslist.org/ctd/d/denver-...   \n",
              "697   7316199009  https://nashville.craigslist.org/ctd/d/nashvil...   \n",
              "887   7316840794  https://denver.craigslist.org/ctd/d/american-f...   \n",
              "900   7311915616  https://westslope.craigslist.org/ctd/d/denver-...   \n",
              "998   7306735187  https://westslope.craigslist.org/ctd/d/denver-...   \n",
              "1208  7309954650  https://gainesville.craigslist.org/ctd/d/gaine...   \n",
              "1308  7313865045  https://westslope.craigslist.org/ctd/d/denver-...   \n",
              "1828  7303344554  https://daytona.craigslist.org/ctd/d/new-smyrn...   \n",
              "2270  7311762820  https://huntsville.craigslist.org/ctd/d/new-ca...   \n",
              "2481  7315662074  https://santafe.craigslist.org/ctd/d/denver-20...   \n",
              "2603  7314588156  https://inlandempire.craigslist.org/ctd/d/hesp...   \n",
              "2792  7310250813  https://omaha.craigslist.org/ctd/d/council-blu...   \n",
              "2931  7306678710  https://gainesville.craigslist.org/ctd/d/gaine...   \n",
              "3263  7316562384  https://honolulu.craigslist.org/oah/ctd/d/hono...   \n",
              "3476  7307209305  https://northmiss.craigslist.org/ctd/d/vicksbu...   \n",
              "3488  7304711487  https://westslope.craigslist.org/ctd/d/denver-...   \n",
              "3634  7309869204  https://scottsbluff.craigslist.org/ctd/d/denve...   \n",
              "4178  7304693422  https://shreveport.craigslist.org/ctd/d/vicksb...   \n",
              "6055  7310371320  https://westslope.craigslist.org/ctd/d/denver-...   \n",
              "6130  7309904568  https://omaha.craigslist.org/ctd/d/omaha-2020-...   \n",
              "6254  7315207437  https://huntsville.craigslist.org/ctd/d/new-ca...   \n",
              "7122  7310924082  https://omaha.craigslist.org/ctd/d/omaha-2018-...   \n",
              "7567  7316247218  https://lasvegas.craigslist.org/ctd/d/scottsda...   \n",
              "7730  7314898718  https://gainesville.craigslist.org/ctd/d/gaine...   \n",
              "7734  7314454466  https://billings.craigslist.org/ctd/d/denver-2...   \n",
              "8437  7310829676  https://tucson.craigslist.org/ctd/d/tempe-2020...   \n",
              "8714  7316852999  https://memphis.craigslist.org/ctd/d/memphis-2...   \n",
              "9237  7316270709  https://denver.craigslist.org/ctd/d/denver-201...   \n",
              "9454  7312938642  https://lasvegas.craigslist.org/ctd/d/scottsda...   \n",
              "9626  7309216259  https://omaha.craigslist.org/ctd/d/omaha-2019-...   \n",
              "9752  7316246632  https://sanantonio.craigslist.org/ctd/d/scotts...   \n",
              "9855  7314033574  https://inlandempire.craigslist.org/ctd/d/scot...   \n",
              "\n",
              "                       region                           region_url  price  \\\n",
              "342                 wenatchee     https://wenatchee.craigslist.org  35880   \n",
              "418                 las vegas      https://lasvegas.craigslist.org  84995   \n",
              "423             western slope     https://westslope.craigslist.org  43900   \n",
              "697                 nashville     https://nashville.craigslist.org  28498   \n",
              "887                    denver        https://denver.craigslist.org  60900   \n",
              "900             western slope     https://westslope.craigslist.org  67900   \n",
              "998             western slope     https://westslope.craigslist.org  38900   \n",
              "1208              gainesville   https://gainesville.craigslist.org  24975   \n",
              "1308            western slope     https://westslope.craigslist.org  47900   \n",
              "1828            daytona beach       https://daytona.craigslist.org  35850   \n",
              "2270     huntsville / decatur    https://huntsville.craigslist.org  29875   \n",
              "2481          santa fe / taos       https://santafe.craigslist.org  43900   \n",
              "2603            inland empire  https://inlandempire.craigslist.org   2599   \n",
              "2792   omaha / council bluffs         https://omaha.craigslist.org  28995   \n",
              "2931              gainesville   https://gainesville.craigslist.org  26975   \n",
              "3263                   hawaii      https://honolulu.craigslist.org  37500   \n",
              "3476        north mississippi     https://northmiss.craigslist.org  64900   \n",
              "3488            western slope     https://westslope.craigslist.org  67900   \n",
              "3634  scottsbluff / panhandle   https://scottsbluff.craigslist.org  48900   \n",
              "4178               shreveport    https://shreveport.craigslist.org  53700   \n",
              "6055            western slope     https://westslope.craigslist.org  49900   \n",
              "6130   omaha / council bluffs         https://omaha.craigslist.org  25399   \n",
              "6254     huntsville / decatur    https://huntsville.craigslist.org  35495   \n",
              "7122   omaha / council bluffs         https://omaha.craigslist.org  12995   \n",
              "7567                las vegas      https://lasvegas.craigslist.org  69995   \n",
              "7730              gainesville   https://gainesville.craigslist.org  38975   \n",
              "7734                 billings      https://billings.craigslist.org  49900   \n",
              "8437                   tucson        https://tucson.craigslist.org  83877   \n",
              "8714                  memphis       https://memphis.craigslist.org  19979   \n",
              "9237                   denver        https://denver.craigslist.org  49900   \n",
              "9454                las vegas      https://lasvegas.craigslist.org  67995   \n",
              "9626   omaha / council bluffs         https://omaha.craigslist.org  29995   \n",
              "9752              san antonio    https://sanantonio.craigslist.org  49995   \n",
              "9855            inland empire  https://inlandempire.craigslist.org  54995   \n",
              "\n",
              "      year manufacturer                 model    fuel  odometer title_status  \\\n",
              "342    NaN        other                   500     gas     13508        clean   \n",
              "418    NaN        other  Super Duty F-350 SRW  diesel      1268        clean   \n",
              "423    NaN        other         Grand Caravan     NaN        21        clean   \n",
              "697    NaN        other   olet Silverado 1500     NaN     59246          NaN   \n",
              "887    NaN        other                 F-150     gas      6110        clean   \n",
              "900    NaN        other               Odyssey     gas        21        clean   \n",
              "998    NaN        other         Grand Caravan     NaN        21        clean   \n",
              "1208   NaN        other                  CR-V     gas     44128        clean   \n",
              "1308   NaN        other              a Sienna     gas     43701        clean   \n",
              "1828   NaN        other     Transit Cargo Van     gas       567        clean   \n",
              "2270   NaN        other               a Camry     gas     46947        clean   \n",
              "2481   NaN        other         Grand Caravan     NaN        21        clean   \n",
              "2603   NaN        other           olet Impala   other         1        clean   \n",
              "2792   NaN        other                 cadia     gas      3851          NaN   \n",
              "2931   NaN        other              n Maxima     gas     28367        clean   \n",
              "3263   NaN        other        Grand Cherokee     NaN     26608        clean   \n",
              "3476   NaN        other                   500  diesel     12338          NaN   \n",
              "3488   NaN        other               Odyssey     gas        21        clean   \n",
              "3634   NaN        other         Grand Caravan     NaN        19        clean   \n",
              "4178   NaN        other            ierra 1500     gas     35676          NaN   \n",
              "6055   NaN        other               Enclave     gas     10345        clean   \n",
              "6130   NaN        other              Envision     NaN      8492      rebuilt   \n",
              "6254   NaN        other                Series     gas     14000        clean   \n",
              "7122   NaN        other             u Impreza     gas     16740      rebuilt   \n",
              "7567   NaN        other                 F-150     gas       412        clean   \n",
              "7730   NaN        other                   500     gas     28689        clean   \n",
              "7734   NaN        other              a Sienna     gas     34294        clean   \n",
              "8437   NaN        other          ierra 2500HD  diesel     25363          NaN   \n",
              "8714   NaN        other                  CX-5     gas     17183        clean   \n",
              "9237   NaN        other              a Sienna     gas     34294        clean   \n",
              "9454   NaN        other   olet Silverado 1500     gas      7511        clean   \n",
              "9626   NaN        other               Enclave     gas      1036      rebuilt   \n",
              "9752   NaN        other                   500     gas     19078        clean   \n",
              "9855   NaN        other                 F-150     gas       180        clean   \n",
              "\n",
              "     transmission                                          image_url  \\\n",
              "342     automatic  https://images.craigslist.org/00J0J_6IMoEUzIIM...   \n",
              "418     automatic  https://images.craigslist.org/00x0x_iQCC0Ef28S...   \n",
              "423     automatic  https://images.craigslist.org/00f0f_7AwipNocNH...   \n",
              "697     automatic  https://images.craigslist.org/00T0T_dZ7nOXskCS...   \n",
              "887     automatic  https://images.craigslist.org/01616_bpzSdSRTbx...   \n",
              "900     automatic  https://images.craigslist.org/00404_erlbeKWEkn...   \n",
              "998     automatic  https://images.craigslist.org/00F0F_3T6FM0XMZW...   \n",
              "1208    automatic  https://images.craigslist.org/00000_2TUtAgLlCR...   \n",
              "1308    automatic  https://images.craigslist.org/00o0o_8XYp4Zygdj...   \n",
              "1828    automatic  https://images.craigslist.org/00a0a_d4XVrHnlxl...   \n",
              "2270    automatic  https://images.craigslist.org/01313_9nQ5n8dbnZ...   \n",
              "2481    automatic  https://images.craigslist.org/00f0f_7AwipNocNH...   \n",
              "2603        other  https://images.craigslist.org/00P0P_dKsEWbujM0...   \n",
              "2792    automatic  https://images.craigslist.org/00j0j_6hfE9qI1CV...   \n",
              "2931    automatic  https://images.craigslist.org/01010_4uw9b06xiS...   \n",
              "3263    automatic  https://images.craigslist.org/01111_h3zrI9JPSH...   \n",
              "3476    automatic  https://images.craigslist.org/00E0E_hZTYK06AGo...   \n",
              "3488    automatic  https://images.craigslist.org/00404_erlbeKWEkn...   \n",
              "3634    automatic  https://images.craigslist.org/00V0V_72KAx8GRuN...   \n",
              "4178    automatic  https://images.craigslist.org/00O0O_cpIkn2jwHN...   \n",
              "6055    automatic  https://images.craigslist.org/00M0M_sPt1lwAVRY...   \n",
              "6130    automatic  https://images.craigslist.org/01515_geiPTG1MZG...   \n",
              "6254    automatic  https://images.craigslist.org/01212_85QVVsEWjT...   \n",
              "7122    automatic  https://images.craigslist.org/01212_dEfENLNXWW...   \n",
              "7567    automatic  https://images.craigslist.org/00n0n_kNzqmJoY2a...   \n",
              "7730    automatic  https://images.craigslist.org/00e0e_3SqmUoLwUf...   \n",
              "7734    automatic  https://images.craigslist.org/00707_lMMxHyLoAR...   \n",
              "8437    automatic  https://images.craigslist.org/00A0A_nd5C1ILCvJ...   \n",
              "8714    automatic  https://images.craigslist.org/00x0x_1sp7mb28W4...   \n",
              "9237    automatic  https://images.craigslist.org/00707_lMMxHyLoAR...   \n",
              "9454    automatic  https://images.craigslist.org/00M0M_74pDndl5gQ...   \n",
              "9626    automatic  https://images.craigslist.org/01010_1PAwiL9HwM...   \n",
              "9752    automatic  https://images.craigslist.org/00p0p_lva0tqTnF1...   \n",
              "9855    automatic  https://images.craigslist.org/00d0d_92wTNhRT7B...   \n",
              "\n",
              "                                            description state        lat  \\\n",
              "342   2019 *Ram* *1500* Big Horn/Lone Star 4x2 Quad ...    wa  47.434493   \n",
              "418   2020 *Ford* *Super Duty F-350 SRW* 1K MILES. B...    nv  33.458277   \n",
              "423   2019 *Dodge* *Grand Caravan* SE - $43,900Call ...    co  39.674406   \n",
              "697   2019 *Chevrolet* *Silverado 1500* 2019 CHEVROL...    tn  36.138022   \n",
              "887   2020 *Ford* *F-150* PLATINUM FX4 Truck - $60,9...    co  40.362248   \n",
              "900   2020 *Honda* *Odyssey* EX-L w/Navi/RES Automat...    co  39.674406   \n",
              "998   2019 *Dodge* *Grand Caravan* SE - $38,900Call ...    co  39.674406   \n",
              "1208  2019 *Honda* *CR-V* EX 2WD SUV - $24,975Call o...    fl  29.676827   \n",
              "1308  2018 *Toyota* *Sienna* LE Automatic Access Sea...    co  39.674406   \n",
              "1828  2020 *Ford* *Transit Cargo Van* T-250 148\" WB*...    fl  29.046240   \n",
              "2270  2019 *Toyota* *Camry* XSE Automatic Sedan - $2...    al  33.669601   \n",
              "2481  2019 *Dodge* *Grand Caravan* SE - $43,900Call ...    nm  39.674406   \n",
              "2603  Chevrolet Impala  * AUCTION PRICES TO THE PUBL...    ca  34.451930   \n",
              "2792  2019 *GMC* *Acadia* AWD 4dr SLT w/SLT-1 SUV - ...    ia  41.229172   \n",
              "2931  2018 *Nissan* *Maxima* SR 3.5L Midnight Editio...    fl  29.676827   \n",
              "3263  2018 *Jeep* *Grand Cherokee* High Altitude 4x2...    hi  21.318059   \n",
              "3476  2020 *Ram* *3500* RAM 3500 DUALLY 4X4 CUMMINS ...    ms  32.332046   \n",
              "3488  2020 *Honda* *Odyssey* EX-L w/Navi/RES Automat...    co  39.674406   \n",
              "3634  2019 *Dodge* *Grand Caravan* SE Plus Wagon - $...    ne  39.674406   \n",
              "4178  2020 *GMC* *Sierra 1500* SIERRA 1500 AT4 4X4 5...    la  32.332046   \n",
              "6055  2018 *Buick* *Enclave* FWD 4dr Essence SUV - $...    co  39.674406   \n",
              "6130  2020 *Buick* *Envision* AWD 4dr Essence SUV - ...    ia  41.207382   \n",
              "6254  2020 *BMW* *3 Series* 330i Sedan - $35,495Call...    al  33.669601   \n",
              "7122  2018 *Subaru* *Impreza* 2.0i 4-door CVT Sedan ...    ia  41.207382   \n",
              "7567  2021 *Ford* *F-150* NEW 2021 FORD F150 SUPERCR...    nv  33.458277   \n",
              "7730  2019 *Ram* *2500* Tradesman 4x2 Crew Cab 8' Bo...    fl  29.676827   \n",
              "7734  2019 *Toyota* *Sienna* LE Automatic Access Sea...    mt  39.674406   \n",
              "8437  2020 *GMC* *Sierra 2500HD* LIFTED - AT4 Editio...    az  33.437098   \n",
              "8714  2019 *Mazda* *CX-5* Sport FWD SUV - $19,979Cal...    tn  35.191437   \n",
              "9237  2019 *Toyota* *Sienna* LE Automatic Access Sea...    co  39.674406   \n",
              "9454  2020 *Chevrolet* *Silverado 1500* 6.2L HIGH CO...    nv  33.458277   \n",
              "9626  2019 *Buick* *Enclave* AWD 4dr Essence SUV - $...    ia  41.207382   \n",
              "9752  2019 *Ram* *1500* LIFTED 2019 RAM 1500 WITH BU...    tx  33.458277   \n",
              "9855  2020 *Ford* *F-150* 180 MILES. LIFTED FORD F15...    ca  33.458277   \n",
              "\n",
              "            long              posting_date price_category  \\\n",
              "342  -120.320759  2021-04-09T06:31:03-0700           high   \n",
              "418  -111.925970  2021-05-03T11:31:39-0700           high   \n",
              "423  -104.998604  2021-05-02T01:11:33-0600           high   \n",
              "697   -86.732261  2021-05-03T10:00:40-0500           high   \n",
              "887  -111.785947  2021-05-04T12:11:22-0600           high   \n",
              "900  -104.998604  2021-04-24T10:41:06-0600           high   \n",
              "998  -104.998604  2021-04-14T10:51:36-0600           high   \n",
              "1208  -82.319202  2021-04-20T14:46:55-0400           high   \n",
              "1308 -104.998604  2021-04-28T10:12:14-0600           high   \n",
              "1828  -80.934561  2021-04-07T17:10:06-0400           high   \n",
              "2270  -86.817617  2021-04-24T04:50:56-0500           high   \n",
              "2481 -104.998604  2021-05-02T01:10:47-0600           high   \n",
              "2603 -117.287060  2021-04-29T16:19:54-0700            low   \n",
              "2792  -95.852118  2021-04-21T07:21:00-0500           high   \n",
              "2931  -82.319202  2021-04-14T11:25:14-0400           high   \n",
              "3263 -157.865187  2021-05-03T16:10:46-1000           high   \n",
              "3476  -90.857163  2021-04-15T10:45:56-0500           high   \n",
              "3488 -104.998604  2021-04-10T10:12:15-0600           high   \n",
              "3634 -104.998604  2021-04-20T10:41:16-0600           high   \n",
              "4178  -90.857163  2021-04-10T10:44:02-0500           high   \n",
              "6055 -104.998604  2021-04-21T10:12:30-0600           high   \n",
              "6130  -96.023096  2021-04-20T12:31:36-0500           high   \n",
              "6254  -86.817617  2021-05-01T04:50:32-0500           high   \n",
              "7122  -96.023096  2021-04-22T12:20:37-0500         medium   \n",
              "7567 -111.925970  2021-05-03T09:15:32-0700           high   \n",
              "7730  -82.319202  2021-04-30T13:32:48-0400           high   \n",
              "7734 -104.998604  2021-04-29T13:00:48-0600           high   \n",
              "8437 -111.925724  2021-04-22T07:50:52-0700           high   \n",
              "8714  -89.894973  2021-05-04T13:30:34-0500         medium   \n",
              "9237 -104.998604  2021-05-03T10:50:33-0600           high   \n",
              "9454 -111.925970  2021-04-26T11:30:40-0700           high   \n",
              "9626  -96.023096  2021-04-19T09:30:41-0500           high   \n",
              "9752 -111.925970  2021-05-03T11:14:44-0500           high   \n",
              "9855 -111.925970  2021-04-28T13:51:27-0700           high   \n",
              "\n",
              "                           date  \n",
              "342   2021-04-09 13:31:03+00:00  \n",
              "418   2021-05-03 18:31:39+00:00  \n",
              "423   2021-05-02 07:11:33+00:00  \n",
              "697   2021-05-03 15:00:40+00:00  \n",
              "887   2021-05-04 18:11:22+00:00  \n",
              "900   2021-04-24 16:41:06+00:00  \n",
              "998   2021-04-14 16:51:36+00:00  \n",
              "1208  2021-04-20 18:46:55+00:00  \n",
              "1308  2021-04-28 16:12:14+00:00  \n",
              "1828  2021-04-07 21:10:06+00:00  \n",
              "2270  2021-04-24 09:50:56+00:00  \n",
              "2481  2021-05-02 07:10:47+00:00  \n",
              "2603  2021-04-29 23:19:54+00:00  \n",
              "2792  2021-04-21 12:21:00+00:00  \n",
              "2931  2021-04-14 15:25:14+00:00  \n",
              "3263  2021-05-04 02:10:46+00:00  \n",
              "3476  2021-04-15 15:45:56+00:00  \n",
              "3488  2021-04-10 16:12:15+00:00  \n",
              "3634  2021-04-20 16:41:16+00:00  \n",
              "4178  2021-04-10 15:44:02+00:00  \n",
              "6055  2021-04-21 16:12:30+00:00  \n",
              "6130  2021-04-20 17:31:36+00:00  \n",
              "6254  2021-05-01 09:50:32+00:00  \n",
              "7122  2021-04-22 17:20:37+00:00  \n",
              "7567  2021-05-03 16:15:32+00:00  \n",
              "7730  2021-04-30 17:32:48+00:00  \n",
              "7734  2021-04-29 19:00:48+00:00  \n",
              "8437  2021-04-22 14:50:52+00:00  \n",
              "8714  2021-05-04 18:30:34+00:00  \n",
              "9237  2021-05-03 16:50:33+00:00  \n",
              "9454  2021-04-26 18:30:40+00:00  \n",
              "9626  2021-04-19 14:30:41+00:00  \n",
              "9752  2021-05-03 16:14:44+00:00  \n",
              "9855  2021-04-28 20:51:27+00:00  "
            ],
            "text/html": [
              "\n",
              "  <div id=\"df-1126e549-3242-47f2-bd33-4d7c3ba9f827\">\n",
              "    <div class=\"colab-df-container\">\n",
              "      <div>\n",
              "<style scoped>\n",
              "    .dataframe tbody tr th:only-of-type {\n",
              "        vertical-align: middle;\n",
              "    }\n",
              "\n",
              "    .dataframe tbody tr th {\n",
              "        vertical-align: top;\n",
              "    }\n",
              "\n",
              "    .dataframe thead th {\n",
              "        text-align: right;\n",
              "    }\n",
              "</style>\n",
              "<table border=\"1\" class=\"dataframe\">\n",
              "  <thead>\n",
              "    <tr style=\"text-align: right;\">\n",
              "      <th></th>\n",
              "      <th>id</th>\n",
              "      <th>url</th>\n",
              "      <th>region</th>\n",
              "      <th>region_url</th>\n",
              "      <th>price</th>\n",
              "      <th>year</th>\n",
              "      <th>manufacturer</th>\n",
              "      <th>model</th>\n",
              "      <th>fuel</th>\n",
              "      <th>odometer</th>\n",
              "      <th>title_status</th>\n",
              "      <th>transmission</th>\n",
              "      <th>image_url</th>\n",
              "      <th>description</th>\n",
              "      <th>state</th>\n",
              "      <th>lat</th>\n",
              "      <th>long</th>\n",
              "      <th>posting_date</th>\n",
              "      <th>price_category</th>\n",
              "      <th>date</th>\n",
              "    </tr>\n",
              "  </thead>\n",
              "  <tbody>\n",
              "    <tr>\n",
              "      <th>342</th>\n",
              "      <td>7304102133</td>\n",
              "      <td>https://wenatchee.craigslist.org/ctd/d/wenatch...</td>\n",
              "      <td>wenatchee</td>\n",
              "      <td>https://wenatchee.craigslist.org</td>\n",
              "      <td>35880</td>\n",
              "      <td>NaN</td>\n",
              "      <td>other</td>\n",
              "      <td>500</td>\n",
              "      <td>gas</td>\n",
              "      <td>13508</td>\n",
              "      <td>clean</td>\n",
              "      <td>automatic</td>\n",
              "      <td>https://images.craigslist.org/00J0J_6IMoEUzIIM...</td>\n",
              "      <td>2019 *Ram* *1500* Big Horn/Lone Star 4x2 Quad ...</td>\n",
              "      <td>wa</td>\n",
              "      <td>47.434493</td>\n",
              "      <td>-120.320759</td>\n",
              "      <td>2021-04-09T06:31:03-0700</td>\n",
              "      <td>high</td>\n",
              "      <td>2021-04-09 13:31:03+00:00</td>\n",
              "    </tr>\n",
              "    <tr>\n",
              "      <th>418</th>\n",
              "      <td>7316337069</td>\n",
              "      <td>https://lasvegas.craigslist.org/ctd/d/scottsda...</td>\n",
              "      <td>las vegas</td>\n",
              "      <td>https://lasvegas.craigslist.org</td>\n",
              "      <td>84995</td>\n",
              "      <td>NaN</td>\n",
              "      <td>other</td>\n",
              "      <td>Super Duty F-350 SRW</td>\n",
              "      <td>diesel</td>\n",
              "      <td>1268</td>\n",
              "      <td>clean</td>\n",
              "      <td>automatic</td>\n",
              "      <td>https://images.craigslist.org/00x0x_iQCC0Ef28S...</td>\n",
              "      <td>2020 *Ford* *Super Duty F-350 SRW* 1K MILES. B...</td>\n",
              "      <td>nv</td>\n",
              "      <td>33.458277</td>\n",
              "      <td>-111.925970</td>\n",
              "      <td>2021-05-03T11:31:39-0700</td>\n",
              "      <td>high</td>\n",
              "      <td>2021-05-03 18:31:39+00:00</td>\n",
              "    </tr>\n",
              "    <tr>\n",
              "      <th>423</th>\n",
              "      <td>7315662117</td>\n",
              "      <td>https://westslope.craigslist.org/ctd/d/denver-...</td>\n",
              "      <td>western slope</td>\n",
              "      <td>https://westslope.craigslist.org</td>\n",
              "      <td>43900</td>\n",
              "      <td>NaN</td>\n",
              "      <td>other</td>\n",
              "      <td>Grand Caravan</td>\n",
              "      <td>NaN</td>\n",
              "      <td>21</td>\n",
              "      <td>clean</td>\n",
              "      <td>automatic</td>\n",
              "      <td>https://images.craigslist.org/00f0f_7AwipNocNH...</td>\n",
              "      <td>2019 *Dodge* *Grand Caravan* SE - $43,900Call ...</td>\n",
              "      <td>co</td>\n",
              "      <td>39.674406</td>\n",
              "      <td>-104.998604</td>\n",
              "      <td>2021-05-02T01:11:33-0600</td>\n",
              "      <td>high</td>\n",
              "      <td>2021-05-02 07:11:33+00:00</td>\n",
              "    </tr>\n",
              "    <tr>\n",
              "      <th>697</th>\n",
              "      <td>7316199009</td>\n",
              "      <td>https://nashville.craigslist.org/ctd/d/nashvil...</td>\n",
              "      <td>nashville</td>\n",
              "      <td>https://nashville.craigslist.org</td>\n",
              "      <td>28498</td>\n",
              "      <td>NaN</td>\n",
              "      <td>other</td>\n",
              "      <td>olet Silverado 1500</td>\n",
              "      <td>NaN</td>\n",
              "      <td>59246</td>\n",
              "      <td>NaN</td>\n",
              "      <td>automatic</td>\n",
              "      <td>https://images.craigslist.org/00T0T_dZ7nOXskCS...</td>\n",
              "      <td>2019 *Chevrolet* *Silverado 1500* 2019 CHEVROL...</td>\n",
              "      <td>tn</td>\n",
              "      <td>36.138022</td>\n",
              "      <td>-86.732261</td>\n",
              "      <td>2021-05-03T10:00:40-0500</td>\n",
              "      <td>high</td>\n",
              "      <td>2021-05-03 15:00:40+00:00</td>\n",
              "    </tr>\n",
              "    <tr>\n",
              "      <th>887</th>\n",
              "      <td>7316840794</td>\n",
              "      <td>https://denver.craigslist.org/ctd/d/american-f...</td>\n",
              "      <td>denver</td>\n",
              "      <td>https://denver.craigslist.org</td>\n",
              "      <td>60900</td>\n",
              "      <td>NaN</td>\n",
              "      <td>other</td>\n",
              "      <td>F-150</td>\n",
              "      <td>gas</td>\n",
              "      <td>6110</td>\n",
              "      <td>clean</td>\n",
              "      <td>automatic</td>\n",
              "      <td>https://images.craigslist.org/01616_bpzSdSRTbx...</td>\n",
              "      <td>2020 *Ford* *F-150* PLATINUM FX4 Truck - $60,9...</td>\n",
              "      <td>co</td>\n",
              "      <td>40.362248</td>\n",
              "      <td>-111.785947</td>\n",
              "      <td>2021-05-04T12:11:22-0600</td>\n",
              "      <td>high</td>\n",
              "      <td>2021-05-04 18:11:22+00:00</td>\n",
              "    </tr>\n",
              "    <tr>\n",
              "      <th>900</th>\n",
              "      <td>7311915616</td>\n",
              "      <td>https://westslope.craigslist.org/ctd/d/denver-...</td>\n",
              "      <td>western slope</td>\n",
              "      <td>https://westslope.craigslist.org</td>\n",
              "      <td>67900</td>\n",
              "      <td>NaN</td>\n",
              "      <td>other</td>\n",
              "      <td>Odyssey</td>\n",
              "      <td>gas</td>\n",
              "      <td>21</td>\n",
              "      <td>clean</td>\n",
              "      <td>automatic</td>\n",
              "      <td>https://images.craigslist.org/00404_erlbeKWEkn...</td>\n",
              "      <td>2020 *Honda* *Odyssey* EX-L w/Navi/RES Automat...</td>\n",
              "      <td>co</td>\n",
              "      <td>39.674406</td>\n",
              "      <td>-104.998604</td>\n",
              "      <td>2021-04-24T10:41:06-0600</td>\n",
              "      <td>high</td>\n",
              "      <td>2021-04-24 16:41:06+00:00</td>\n",
              "    </tr>\n",
              "    <tr>\n",
              "      <th>998</th>\n",
              "      <td>7306735187</td>\n",
              "      <td>https://westslope.craigslist.org/ctd/d/denver-...</td>\n",
              "      <td>western slope</td>\n",
              "      <td>https://westslope.craigslist.org</td>\n",
              "      <td>38900</td>\n",
              "      <td>NaN</td>\n",
              "      <td>other</td>\n",
              "      <td>Grand Caravan</td>\n",
              "      <td>NaN</td>\n",
              "      <td>21</td>\n",
              "      <td>clean</td>\n",
              "      <td>automatic</td>\n",
              "      <td>https://images.craigslist.org/00F0F_3T6FM0XMZW...</td>\n",
              "      <td>2019 *Dodge* *Grand Caravan* SE - $38,900Call ...</td>\n",
              "      <td>co</td>\n",
              "      <td>39.674406</td>\n",
              "      <td>-104.998604</td>\n",
              "      <td>2021-04-14T10:51:36-0600</td>\n",
              "      <td>high</td>\n",
              "      <td>2021-04-14 16:51:36+00:00</td>\n",
              "    </tr>\n",
              "    <tr>\n",
              "      <th>1208</th>\n",
              "      <td>7309954650</td>\n",
              "      <td>https://gainesville.craigslist.org/ctd/d/gaine...</td>\n",
              "      <td>gainesville</td>\n",
              "      <td>https://gainesville.craigslist.org</td>\n",
              "      <td>24975</td>\n",
              "      <td>NaN</td>\n",
              "      <td>other</td>\n",
              "      <td>CR-V</td>\n",
              "      <td>gas</td>\n",
              "      <td>44128</td>\n",
              "      <td>clean</td>\n",
              "      <td>automatic</td>\n",
              "      <td>https://images.craigslist.org/00000_2TUtAgLlCR...</td>\n",
              "      <td>2019 *Honda* *CR-V* EX 2WD SUV - $24,975Call o...</td>\n",
              "      <td>fl</td>\n",
              "      <td>29.676827</td>\n",
              "      <td>-82.319202</td>\n",
              "      <td>2021-04-20T14:46:55-0400</td>\n",
              "      <td>high</td>\n",
              "      <td>2021-04-20 18:46:55+00:00</td>\n",
              "    </tr>\n",
              "    <tr>\n",
              "      <th>1308</th>\n",
              "      <td>7313865045</td>\n",
              "      <td>https://westslope.craigslist.org/ctd/d/denver-...</td>\n",
              "      <td>western slope</td>\n",
              "      <td>https://westslope.craigslist.org</td>\n",
              "      <td>47900</td>\n",
              "      <td>NaN</td>\n",
              "      <td>other</td>\n",
              "      <td>a Sienna</td>\n",
              "      <td>gas</td>\n",
              "      <td>43701</td>\n",
              "      <td>clean</td>\n",
              "      <td>automatic</td>\n",
              "      <td>https://images.craigslist.org/00o0o_8XYp4Zygdj...</td>\n",
              "      <td>2018 *Toyota* *Sienna* LE Automatic Access Sea...</td>\n",
              "      <td>co</td>\n",
              "      <td>39.674406</td>\n",
              "      <td>-104.998604</td>\n",
              "      <td>2021-04-28T10:12:14-0600</td>\n",
              "      <td>high</td>\n",
              "      <td>2021-04-28 16:12:14+00:00</td>\n",
              "    </tr>\n",
              "    <tr>\n",
              "      <th>1828</th>\n",
              "      <td>7303344554</td>\n",
              "      <td>https://daytona.craigslist.org/ctd/d/new-smyrn...</td>\n",
              "      <td>daytona beach</td>\n",
              "      <td>https://daytona.craigslist.org</td>\n",
              "      <td>35850</td>\n",
              "      <td>NaN</td>\n",
              "      <td>other</td>\n",
              "      <td>Transit Cargo Van</td>\n",
              "      <td>gas</td>\n",
              "      <td>567</td>\n",
              "      <td>clean</td>\n",
              "      <td>automatic</td>\n",
              "      <td>https://images.craigslist.org/00a0a_d4XVrHnlxl...</td>\n",
              "      <td>2020 *Ford* *Transit Cargo Van* T-250 148\" WB*...</td>\n",
              "      <td>fl</td>\n",
              "      <td>29.046240</td>\n",
              "      <td>-80.934561</td>\n",
              "      <td>2021-04-07T17:10:06-0400</td>\n",
              "      <td>high</td>\n",
              "      <td>2021-04-07 21:10:06+00:00</td>\n",
              "    </tr>\n",
              "    <tr>\n",
              "      <th>2270</th>\n",
              "      <td>7311762820</td>\n",
              "      <td>https://huntsville.craigslist.org/ctd/d/new-ca...</td>\n",
              "      <td>huntsville / decatur</td>\n",
              "      <td>https://huntsville.craigslist.org</td>\n",
              "      <td>29875</td>\n",
              "      <td>NaN</td>\n",
              "      <td>other</td>\n",
              "      <td>a Camry</td>\n",
              "      <td>gas</td>\n",
              "      <td>46947</td>\n",
              "      <td>clean</td>\n",
              "      <td>automatic</td>\n",
              "      <td>https://images.craigslist.org/01313_9nQ5n8dbnZ...</td>\n",
              "      <td>2019 *Toyota* *Camry* XSE Automatic Sedan - $2...</td>\n",
              "      <td>al</td>\n",
              "      <td>33.669601</td>\n",
              "      <td>-86.817617</td>\n",
              "      <td>2021-04-24T04:50:56-0500</td>\n",
              "      <td>high</td>\n",
              "      <td>2021-04-24 09:50:56+00:00</td>\n",
              "    </tr>\n",
              "    <tr>\n",
              "      <th>2481</th>\n",
              "      <td>7315662074</td>\n",
              "      <td>https://santafe.craigslist.org/ctd/d/denver-20...</td>\n",
              "      <td>santa fe / taos</td>\n",
              "      <td>https://santafe.craigslist.org</td>\n",
              "      <td>43900</td>\n",
              "      <td>NaN</td>\n",
              "      <td>other</td>\n",
              "      <td>Grand Caravan</td>\n",
              "      <td>NaN</td>\n",
              "      <td>21</td>\n",
              "      <td>clean</td>\n",
              "      <td>automatic</td>\n",
              "      <td>https://images.craigslist.org/00f0f_7AwipNocNH...</td>\n",
              "      <td>2019 *Dodge* *Grand Caravan* SE - $43,900Call ...</td>\n",
              "      <td>nm</td>\n",
              "      <td>39.674406</td>\n",
              "      <td>-104.998604</td>\n",
              "      <td>2021-05-02T01:10:47-0600</td>\n",
              "      <td>high</td>\n",
              "      <td>2021-05-02 07:10:47+00:00</td>\n",
              "    </tr>\n",
              "    <tr>\n",
              "      <th>2603</th>\n",
              "      <td>7314588156</td>\n",
              "      <td>https://inlandempire.craigslist.org/ctd/d/hesp...</td>\n",
              "      <td>inland empire</td>\n",
              "      <td>https://inlandempire.craigslist.org</td>\n",
              "      <td>2599</td>\n",
              "      <td>NaN</td>\n",
              "      <td>other</td>\n",
              "      <td>olet Impala</td>\n",
              "      <td>other</td>\n",
              "      <td>1</td>\n",
              "      <td>clean</td>\n",
              "      <td>other</td>\n",
              "      <td>https://images.craigslist.org/00P0P_dKsEWbujM0...</td>\n",
              "      <td>Chevrolet Impala  * AUCTION PRICES TO THE PUBL...</td>\n",
              "      <td>ca</td>\n",
              "      <td>34.451930</td>\n",
              "      <td>-117.287060</td>\n",
              "      <td>2021-04-29T16:19:54-0700</td>\n",
              "      <td>low</td>\n",
              "      <td>2021-04-29 23:19:54+00:00</td>\n",
              "    </tr>\n",
              "    <tr>\n",
              "      <th>2792</th>\n",
              "      <td>7310250813</td>\n",
              "      <td>https://omaha.craigslist.org/ctd/d/council-blu...</td>\n",
              "      <td>omaha / council bluffs</td>\n",
              "      <td>https://omaha.craigslist.org</td>\n",
              "      <td>28995</td>\n",
              "      <td>NaN</td>\n",
              "      <td>other</td>\n",
              "      <td>cadia</td>\n",
              "      <td>gas</td>\n",
              "      <td>3851</td>\n",
              "      <td>NaN</td>\n",
              "      <td>automatic</td>\n",
              "      <td>https://images.craigslist.org/00j0j_6hfE9qI1CV...</td>\n",
              "      <td>2019 *GMC* *Acadia* AWD 4dr SLT w/SLT-1 SUV - ...</td>\n",
              "      <td>ia</td>\n",
              "      <td>41.229172</td>\n",
              "      <td>-95.852118</td>\n",
              "      <td>2021-04-21T07:21:00-0500</td>\n",
              "      <td>high</td>\n",
              "      <td>2021-04-21 12:21:00+00:00</td>\n",
              "    </tr>\n",
              "    <tr>\n",
              "      <th>2931</th>\n",
              "      <td>7306678710</td>\n",
              "      <td>https://gainesville.craigslist.org/ctd/d/gaine...</td>\n",
              "      <td>gainesville</td>\n",
              "      <td>https://gainesville.craigslist.org</td>\n",
              "      <td>26975</td>\n",
              "      <td>NaN</td>\n",
              "      <td>other</td>\n",
              "      <td>n Maxima</td>\n",
              "      <td>gas</td>\n",
              "      <td>28367</td>\n",
              "      <td>clean</td>\n",
              "      <td>automatic</td>\n",
              "      <td>https://images.craigslist.org/01010_4uw9b06xiS...</td>\n",
              "      <td>2018 *Nissan* *Maxima* SR 3.5L Midnight Editio...</td>\n",
              "      <td>fl</td>\n",
              "      <td>29.676827</td>\n",
              "      <td>-82.319202</td>\n",
              "      <td>2021-04-14T11:25:14-0400</td>\n",
              "      <td>high</td>\n",
              "      <td>2021-04-14 15:25:14+00:00</td>\n",
              "    </tr>\n",
              "    <tr>\n",
              "      <th>3263</th>\n",
              "      <td>7316562384</td>\n",
              "      <td>https://honolulu.craigslist.org/oah/ctd/d/hono...</td>\n",
              "      <td>hawaii</td>\n",
              "      <td>https://honolulu.craigslist.org</td>\n",
              "      <td>37500</td>\n",
              "      <td>NaN</td>\n",
              "      <td>other</td>\n",
              "      <td>Grand Cherokee</td>\n",
              "      <td>NaN</td>\n",
              "      <td>26608</td>\n",
              "      <td>clean</td>\n",
              "      <td>automatic</td>\n",
              "      <td>https://images.craigslist.org/01111_h3zrI9JPSH...</td>\n",
              "      <td>2018 *Jeep* *Grand Cherokee* High Altitude 4x2...</td>\n",
              "      <td>hi</td>\n",
              "      <td>21.318059</td>\n",
              "      <td>-157.865187</td>\n",
              "      <td>2021-05-03T16:10:46-1000</td>\n",
              "      <td>high</td>\n",
              "      <td>2021-05-04 02:10:46+00:00</td>\n",
              "    </tr>\n",
              "    <tr>\n",
              "      <th>3476</th>\n",
              "      <td>7307209305</td>\n",
              "      <td>https://northmiss.craigslist.org/ctd/d/vicksbu...</td>\n",
              "      <td>north mississippi</td>\n",
              "      <td>https://northmiss.craigslist.org</td>\n",
              "      <td>64900</td>\n",
              "      <td>NaN</td>\n",
              "      <td>other</td>\n",
              "      <td>500</td>\n",
              "      <td>diesel</td>\n",
              "      <td>12338</td>\n",
              "      <td>NaN</td>\n",
              "      <td>automatic</td>\n",
              "      <td>https://images.craigslist.org/00E0E_hZTYK06AGo...</td>\n",
              "      <td>2020 *Ram* *3500* RAM 3500 DUALLY 4X4 CUMMINS ...</td>\n",
              "      <td>ms</td>\n",
              "      <td>32.332046</td>\n",
              "      <td>-90.857163</td>\n",
              "      <td>2021-04-15T10:45:56-0500</td>\n",
              "      <td>high</td>\n",
              "      <td>2021-04-15 15:45:56+00:00</td>\n",
              "    </tr>\n",
              "    <tr>\n",
              "      <th>3488</th>\n",
              "      <td>7304711487</td>\n",
              "      <td>https://westslope.craigslist.org/ctd/d/denver-...</td>\n",
              "      <td>western slope</td>\n",
              "      <td>https://westslope.craigslist.org</td>\n",
              "      <td>67900</td>\n",
              "      <td>NaN</td>\n",
              "      <td>other</td>\n",
              "      <td>Odyssey</td>\n",
              "      <td>gas</td>\n",
              "      <td>21</td>\n",
              "      <td>clean</td>\n",
              "      <td>automatic</td>\n",
              "      <td>https://images.craigslist.org/00404_erlbeKWEkn...</td>\n",
              "      <td>2020 *Honda* *Odyssey* EX-L w/Navi/RES Automat...</td>\n",
              "      <td>co</td>\n",
              "      <td>39.674406</td>\n",
              "      <td>-104.998604</td>\n",
              "      <td>2021-04-10T10:12:15-0600</td>\n",
              "      <td>high</td>\n",
              "      <td>2021-04-10 16:12:15+00:00</td>\n",
              "    </tr>\n",
              "    <tr>\n",
              "      <th>3634</th>\n",
              "      <td>7309869204</td>\n",
              "      <td>https://scottsbluff.craigslist.org/ctd/d/denve...</td>\n",
              "      <td>scottsbluff / panhandle</td>\n",
              "      <td>https://scottsbluff.craigslist.org</td>\n",
              "      <td>48900</td>\n",
              "      <td>NaN</td>\n",
              "      <td>other</td>\n",
              "      <td>Grand Caravan</td>\n",
              "      <td>NaN</td>\n",
              "      <td>19</td>\n",
              "      <td>clean</td>\n",
              "      <td>automatic</td>\n",
              "      <td>https://images.craigslist.org/00V0V_72KAx8GRuN...</td>\n",
              "      <td>2019 *Dodge* *Grand Caravan* SE Plus Wagon - $...</td>\n",
              "      <td>ne</td>\n",
              "      <td>39.674406</td>\n",
              "      <td>-104.998604</td>\n",
              "      <td>2021-04-20T10:41:16-0600</td>\n",
              "      <td>high</td>\n",
              "      <td>2021-04-20 16:41:16+00:00</td>\n",
              "    </tr>\n",
              "    <tr>\n",
              "      <th>4178</th>\n",
              "      <td>7304693422</td>\n",
              "      <td>https://shreveport.craigslist.org/ctd/d/vicksb...</td>\n",
              "      <td>shreveport</td>\n",
              "      <td>https://shreveport.craigslist.org</td>\n",
              "      <td>53700</td>\n",
              "      <td>NaN</td>\n",
              "      <td>other</td>\n",
              "      <td>ierra 1500</td>\n",
              "      <td>gas</td>\n",
              "      <td>35676</td>\n",
              "      <td>NaN</td>\n",
              "      <td>automatic</td>\n",
              "      <td>https://images.craigslist.org/00O0O_cpIkn2jwHN...</td>\n",
              "      <td>2020 *GMC* *Sierra 1500* SIERRA 1500 AT4 4X4 5...</td>\n",
              "      <td>la</td>\n",
              "      <td>32.332046</td>\n",
              "      <td>-90.857163</td>\n",
              "      <td>2021-04-10T10:44:02-0500</td>\n",
              "      <td>high</td>\n",
              "      <td>2021-04-10 15:44:02+00:00</td>\n",
              "    </tr>\n",
              "    <tr>\n",
              "      <th>6055</th>\n",
              "      <td>7310371320</td>\n",
              "      <td>https://westslope.craigslist.org/ctd/d/denver-...</td>\n",
              "      <td>western slope</td>\n",
              "      <td>https://westslope.craigslist.org</td>\n",
              "      <td>49900</td>\n",
              "      <td>NaN</td>\n",
              "      <td>other</td>\n",
              "      <td>Enclave</td>\n",
              "      <td>gas</td>\n",
              "      <td>10345</td>\n",
              "      <td>clean</td>\n",
              "      <td>automatic</td>\n",
              "      <td>https://images.craigslist.org/00M0M_sPt1lwAVRY...</td>\n",
              "      <td>2018 *Buick* *Enclave* FWD 4dr Essence SUV - $...</td>\n",
              "      <td>co</td>\n",
              "      <td>39.674406</td>\n",
              "      <td>-104.998604</td>\n",
              "      <td>2021-04-21T10:12:30-0600</td>\n",
              "      <td>high</td>\n",
              "      <td>2021-04-21 16:12:30+00:00</td>\n",
              "    </tr>\n",
              "    <tr>\n",
              "      <th>6130</th>\n",
              "      <td>7309904568</td>\n",
              "      <td>https://omaha.craigslist.org/ctd/d/omaha-2020-...</td>\n",
              "      <td>omaha / council bluffs</td>\n",
              "      <td>https://omaha.craigslist.org</td>\n",
              "      <td>25399</td>\n",
              "      <td>NaN</td>\n",
              "      <td>other</td>\n",
              "      <td>Envision</td>\n",
              "      <td>NaN</td>\n",
              "      <td>8492</td>\n",
              "      <td>rebuilt</td>\n",
              "      <td>automatic</td>\n",
              "      <td>https://images.craigslist.org/01515_geiPTG1MZG...</td>\n",
              "      <td>2020 *Buick* *Envision* AWD 4dr Essence SUV - ...</td>\n",
              "      <td>ia</td>\n",
              "      <td>41.207382</td>\n",
              "      <td>-96.023096</td>\n",
              "      <td>2021-04-20T12:31:36-0500</td>\n",
              "      <td>high</td>\n",
              "      <td>2021-04-20 17:31:36+00:00</td>\n",
              "    </tr>\n",
              "    <tr>\n",
              "      <th>6254</th>\n",
              "      <td>7315207437</td>\n",
              "      <td>https://huntsville.craigslist.org/ctd/d/new-ca...</td>\n",
              "      <td>huntsville / decatur</td>\n",
              "      <td>https://huntsville.craigslist.org</td>\n",
              "      <td>35495</td>\n",
              "      <td>NaN</td>\n",
              "      <td>other</td>\n",
              "      <td>Series</td>\n",
              "      <td>gas</td>\n",
              "      <td>14000</td>\n",
              "      <td>clean</td>\n",
              "      <td>automatic</td>\n",
              "      <td>https://images.craigslist.org/01212_85QVVsEWjT...</td>\n",
              "      <td>2020 *BMW* *3 Series* 330i Sedan - $35,495Call...</td>\n",
              "      <td>al</td>\n",
              "      <td>33.669601</td>\n",
              "      <td>-86.817617</td>\n",
              "      <td>2021-05-01T04:50:32-0500</td>\n",
              "      <td>high</td>\n",
              "      <td>2021-05-01 09:50:32+00:00</td>\n",
              "    </tr>\n",
              "    <tr>\n",
              "      <th>7122</th>\n",
              "      <td>7310924082</td>\n",
              "      <td>https://omaha.craigslist.org/ctd/d/omaha-2018-...</td>\n",
              "      <td>omaha / council bluffs</td>\n",
              "      <td>https://omaha.craigslist.org</td>\n",
              "      <td>12995</td>\n",
              "      <td>NaN</td>\n",
              "      <td>other</td>\n",
              "      <td>u Impreza</td>\n",
              "      <td>gas</td>\n",
              "      <td>16740</td>\n",
              "      <td>rebuilt</td>\n",
              "      <td>automatic</td>\n",
              "      <td>https://images.craigslist.org/01212_dEfENLNXWW...</td>\n",
              "      <td>2018 *Subaru* *Impreza* 2.0i 4-door CVT Sedan ...</td>\n",
              "      <td>ia</td>\n",
              "      <td>41.207382</td>\n",
              "      <td>-96.023096</td>\n",
              "      <td>2021-04-22T12:20:37-0500</td>\n",
              "      <td>medium</td>\n",
              "      <td>2021-04-22 17:20:37+00:00</td>\n",
              "    </tr>\n",
              "    <tr>\n",
              "      <th>7567</th>\n",
              "      <td>7316247218</td>\n",
              "      <td>https://lasvegas.craigslist.org/ctd/d/scottsda...</td>\n",
              "      <td>las vegas</td>\n",
              "      <td>https://lasvegas.craigslist.org</td>\n",
              "      <td>69995</td>\n",
              "      <td>NaN</td>\n",
              "      <td>other</td>\n",
              "      <td>F-150</td>\n",
              "      <td>gas</td>\n",
              "      <td>412</td>\n",
              "      <td>clean</td>\n",
              "      <td>automatic</td>\n",
              "      <td>https://images.craigslist.org/00n0n_kNzqmJoY2a...</td>\n",
              "      <td>2021 *Ford* *F-150* NEW 2021 FORD F150 SUPERCR...</td>\n",
              "      <td>nv</td>\n",
              "      <td>33.458277</td>\n",
              "      <td>-111.925970</td>\n",
              "      <td>2021-05-03T09:15:32-0700</td>\n",
              "      <td>high</td>\n",
              "      <td>2021-05-03 16:15:32+00:00</td>\n",
              "    </tr>\n",
              "    <tr>\n",
              "      <th>7730</th>\n",
              "      <td>7314898718</td>\n",
              "      <td>https://gainesville.craigslist.org/ctd/d/gaine...</td>\n",
              "      <td>gainesville</td>\n",
              "      <td>https://gainesville.craigslist.org</td>\n",
              "      <td>38975</td>\n",
              "      <td>NaN</td>\n",
              "      <td>other</td>\n",
              "      <td>500</td>\n",
              "      <td>gas</td>\n",
              "      <td>28689</td>\n",
              "      <td>clean</td>\n",
              "      <td>automatic</td>\n",
              "      <td>https://images.craigslist.org/00e0e_3SqmUoLwUf...</td>\n",
              "      <td>2019 *Ram* *2500* Tradesman 4x2 Crew Cab 8' Bo...</td>\n",
              "      <td>fl</td>\n",
              "      <td>29.676827</td>\n",
              "      <td>-82.319202</td>\n",
              "      <td>2021-04-30T13:32:48-0400</td>\n",
              "      <td>high</td>\n",
              "      <td>2021-04-30 17:32:48+00:00</td>\n",
              "    </tr>\n",
              "    <tr>\n",
              "      <th>7734</th>\n",
              "      <td>7314454466</td>\n",
              "      <td>https://billings.craigslist.org/ctd/d/denver-2...</td>\n",
              "      <td>billings</td>\n",
              "      <td>https://billings.craigslist.org</td>\n",
              "      <td>49900</td>\n",
              "      <td>NaN</td>\n",
              "      <td>other</td>\n",
              "      <td>a Sienna</td>\n",
              "      <td>gas</td>\n",
              "      <td>34294</td>\n",
              "      <td>clean</td>\n",
              "      <td>automatic</td>\n",
              "      <td>https://images.craigslist.org/00707_lMMxHyLoAR...</td>\n",
              "      <td>2019 *Toyota* *Sienna* LE Automatic Access Sea...</td>\n",
              "      <td>mt</td>\n",
              "      <td>39.674406</td>\n",
              "      <td>-104.998604</td>\n",
              "      <td>2021-04-29T13:00:48-0600</td>\n",
              "      <td>high</td>\n",
              "      <td>2021-04-29 19:00:48+00:00</td>\n",
              "    </tr>\n",
              "    <tr>\n",
              "      <th>8437</th>\n",
              "      <td>7310829676</td>\n",
              "      <td>https://tucson.craigslist.org/ctd/d/tempe-2020...</td>\n",
              "      <td>tucson</td>\n",
              "      <td>https://tucson.craigslist.org</td>\n",
              "      <td>83877</td>\n",
              "      <td>NaN</td>\n",
              "      <td>other</td>\n",
              "      <td>ierra 2500HD</td>\n",
              "      <td>diesel</td>\n",
              "      <td>25363</td>\n",
              "      <td>NaN</td>\n",
              "      <td>automatic</td>\n",
              "      <td>https://images.craigslist.org/00A0A_nd5C1ILCvJ...</td>\n",
              "      <td>2020 *GMC* *Sierra 2500HD* LIFTED - AT4 Editio...</td>\n",
              "      <td>az</td>\n",
              "      <td>33.437098</td>\n",
              "      <td>-111.925724</td>\n",
              "      <td>2021-04-22T07:50:52-0700</td>\n",
              "      <td>high</td>\n",
              "      <td>2021-04-22 14:50:52+00:00</td>\n",
              "    </tr>\n",
              "    <tr>\n",
              "      <th>8714</th>\n",
              "      <td>7316852999</td>\n",
              "      <td>https://memphis.craigslist.org/ctd/d/memphis-2...</td>\n",
              "      <td>memphis</td>\n",
              "      <td>https://memphis.craigslist.org</td>\n",
              "      <td>19979</td>\n",
              "      <td>NaN</td>\n",
              "      <td>other</td>\n",
              "      <td>CX-5</td>\n",
              "      <td>gas</td>\n",
              "      <td>17183</td>\n",
              "      <td>clean</td>\n",
              "      <td>automatic</td>\n",
              "      <td>https://images.craigslist.org/00x0x_1sp7mb28W4...</td>\n",
              "      <td>2019 *Mazda* *CX-5* Sport FWD SUV - $19,979Cal...</td>\n",
              "      <td>tn</td>\n",
              "      <td>35.191437</td>\n",
              "      <td>-89.894973</td>\n",
              "      <td>2021-05-04T13:30:34-0500</td>\n",
              "      <td>medium</td>\n",
              "      <td>2021-05-04 18:30:34+00:00</td>\n",
              "    </tr>\n",
              "    <tr>\n",
              "      <th>9237</th>\n",
              "      <td>7316270709</td>\n",
              "      <td>https://denver.craigslist.org/ctd/d/denver-201...</td>\n",
              "      <td>denver</td>\n",
              "      <td>https://denver.craigslist.org</td>\n",
              "      <td>49900</td>\n",
              "      <td>NaN</td>\n",
              "      <td>other</td>\n",
              "      <td>a Sienna</td>\n",
              "      <td>gas</td>\n",
              "      <td>34294</td>\n",
              "      <td>clean</td>\n",
              "      <td>automatic</td>\n",
              "      <td>https://images.craigslist.org/00707_lMMxHyLoAR...</td>\n",
              "      <td>2019 *Toyota* *Sienna* LE Automatic Access Sea...</td>\n",
              "      <td>co</td>\n",
              "      <td>39.674406</td>\n",
              "      <td>-104.998604</td>\n",
              "      <td>2021-05-03T10:50:33-0600</td>\n",
              "      <td>high</td>\n",
              "      <td>2021-05-03 16:50:33+00:00</td>\n",
              "    </tr>\n",
              "    <tr>\n",
              "      <th>9454</th>\n",
              "      <td>7312938642</td>\n",
              "      <td>https://lasvegas.craigslist.org/ctd/d/scottsda...</td>\n",
              "      <td>las vegas</td>\n",
              "      <td>https://lasvegas.craigslist.org</td>\n",
              "      <td>67995</td>\n",
              "      <td>NaN</td>\n",
              "      <td>other</td>\n",
              "      <td>olet Silverado 1500</td>\n",
              "      <td>gas</td>\n",
              "      <td>7511</td>\n",
              "      <td>clean</td>\n",
              "      <td>automatic</td>\n",
              "      <td>https://images.craigslist.org/00M0M_74pDndl5gQ...</td>\n",
              "      <td>2020 *Chevrolet* *Silverado 1500* 6.2L HIGH CO...</td>\n",
              "      <td>nv</td>\n",
              "      <td>33.458277</td>\n",
              "      <td>-111.925970</td>\n",
              "      <td>2021-04-26T11:30:40-0700</td>\n",
              "      <td>high</td>\n",
              "      <td>2021-04-26 18:30:40+00:00</td>\n",
              "    </tr>\n",
              "    <tr>\n",
              "      <th>9626</th>\n",
              "      <td>7309216259</td>\n",
              "      <td>https://omaha.craigslist.org/ctd/d/omaha-2019-...</td>\n",
              "      <td>omaha / council bluffs</td>\n",
              "      <td>https://omaha.craigslist.org</td>\n",
              "      <td>29995</td>\n",
              "      <td>NaN</td>\n",
              "      <td>other</td>\n",
              "      <td>Enclave</td>\n",
              "      <td>gas</td>\n",
              "      <td>1036</td>\n",
              "      <td>rebuilt</td>\n",
              "      <td>automatic</td>\n",
              "      <td>https://images.craigslist.org/01010_1PAwiL9HwM...</td>\n",
              "      <td>2019 *Buick* *Enclave* AWD 4dr Essence SUV - $...</td>\n",
              "      <td>ia</td>\n",
              "      <td>41.207382</td>\n",
              "      <td>-96.023096</td>\n",
              "      <td>2021-04-19T09:30:41-0500</td>\n",
              "      <td>high</td>\n",
              "      <td>2021-04-19 14:30:41+00:00</td>\n",
              "    </tr>\n",
              "    <tr>\n",
              "      <th>9752</th>\n",
              "      <td>7316246632</td>\n",
              "      <td>https://sanantonio.craigslist.org/ctd/d/scotts...</td>\n",
              "      <td>san antonio</td>\n",
              "      <td>https://sanantonio.craigslist.org</td>\n",
              "      <td>49995</td>\n",
              "      <td>NaN</td>\n",
              "      <td>other</td>\n",
              "      <td>500</td>\n",
              "      <td>gas</td>\n",
              "      <td>19078</td>\n",
              "      <td>clean</td>\n",
              "      <td>automatic</td>\n",
              "      <td>https://images.craigslist.org/00p0p_lva0tqTnF1...</td>\n",
              "      <td>2019 *Ram* *1500* LIFTED 2019 RAM 1500 WITH BU...</td>\n",
              "      <td>tx</td>\n",
              "      <td>33.458277</td>\n",
              "      <td>-111.925970</td>\n",
              "      <td>2021-05-03T11:14:44-0500</td>\n",
              "      <td>high</td>\n",
              "      <td>2021-05-03 16:14:44+00:00</td>\n",
              "    </tr>\n",
              "    <tr>\n",
              "      <th>9855</th>\n",
              "      <td>7314033574</td>\n",
              "      <td>https://inlandempire.craigslist.org/ctd/d/scot...</td>\n",
              "      <td>inland empire</td>\n",
              "      <td>https://inlandempire.craigslist.org</td>\n",
              "      <td>54995</td>\n",
              "      <td>NaN</td>\n",
              "      <td>other</td>\n",
              "      <td>F-150</td>\n",
              "      <td>gas</td>\n",
              "      <td>180</td>\n",
              "      <td>clean</td>\n",
              "      <td>automatic</td>\n",
              "      <td>https://images.craigslist.org/00d0d_92wTNhRT7B...</td>\n",
              "      <td>2020 *Ford* *F-150* 180 MILES. LIFTED FORD F15...</td>\n",
              "      <td>ca</td>\n",
              "      <td>33.458277</td>\n",
              "      <td>-111.925970</td>\n",
              "      <td>2021-04-28T13:51:27-0700</td>\n",
              "      <td>high</td>\n",
              "      <td>2021-04-28 20:51:27+00:00</td>\n",
              "    </tr>\n",
              "  </tbody>\n",
              "</table>\n",
              "</div>\n",
              "      <button class=\"colab-df-convert\" onclick=\"convertToInteractive('df-1126e549-3242-47f2-bd33-4d7c3ba9f827')\"\n",
              "              title=\"Convert this dataframe to an interactive table.\"\n",
              "              style=\"display:none;\">\n",
              "        \n",
              "  <svg xmlns=\"http://www.w3.org/2000/svg\" height=\"24px\"viewBox=\"0 0 24 24\"\n",
              "       width=\"24px\">\n",
              "    <path d=\"M0 0h24v24H0V0z\" fill=\"none\"/>\n",
              "    <path d=\"M18.56 5.44l.94 2.06.94-2.06 2.06-.94-2.06-.94-.94-2.06-.94 2.06-2.06.94zm-11 1L8.5 8.5l.94-2.06 2.06-.94-2.06-.94L8.5 2.5l-.94 2.06-2.06.94zm10 10l.94 2.06.94-2.06 2.06-.94-2.06-.94-.94-2.06-.94 2.06-2.06.94z\"/><path d=\"M17.41 7.96l-1.37-1.37c-.4-.4-.92-.59-1.43-.59-.52 0-1.04.2-1.43.59L10.3 9.45l-7.72 7.72c-.78.78-.78 2.05 0 2.83L4 21.41c.39.39.9.59 1.41.59.51 0 1.02-.2 1.41-.59l7.78-7.78 2.81-2.81c.8-.78.8-2.07 0-2.86zM5.41 20L4 18.59l7.72-7.72 1.47 1.35L5.41 20z\"/>\n",
              "  </svg>\n",
              "      </button>\n",
              "      \n",
              "  <style>\n",
              "    .colab-df-container {\n",
              "      display:flex;\n",
              "      flex-wrap:wrap;\n",
              "      gap: 12px;\n",
              "    }\n",
              "\n",
              "    .colab-df-convert {\n",
              "      background-color: #E8F0FE;\n",
              "      border: none;\n",
              "      border-radius: 50%;\n",
              "      cursor: pointer;\n",
              "      display: none;\n",
              "      fill: #1967D2;\n",
              "      height: 32px;\n",
              "      padding: 0 0 0 0;\n",
              "      width: 32px;\n",
              "    }\n",
              "\n",
              "    .colab-df-convert:hover {\n",
              "      background-color: #E2EBFA;\n",
              "      box-shadow: 0px 1px 2px rgba(60, 64, 67, 0.3), 0px 1px 3px 1px rgba(60, 64, 67, 0.15);\n",
              "      fill: #174EA6;\n",
              "    }\n",
              "\n",
              "    [theme=dark] .colab-df-convert {\n",
              "      background-color: #3B4455;\n",
              "      fill: #D2E3FC;\n",
              "    }\n",
              "\n",
              "    [theme=dark] .colab-df-convert:hover {\n",
              "      background-color: #434B5C;\n",
              "      box-shadow: 0px 1px 3px 1px rgba(0, 0, 0, 0.15);\n",
              "      filter: drop-shadow(0px 1px 2px rgba(0, 0, 0, 0.3));\n",
              "      fill: #FFFFFF;\n",
              "    }\n",
              "  </style>\n",
              "\n",
              "      <script>\n",
              "        const buttonEl =\n",
              "          document.querySelector('#df-1126e549-3242-47f2-bd33-4d7c3ba9f827 button.colab-df-convert');\n",
              "        buttonEl.style.display =\n",
              "          google.colab.kernel.accessAllowed ? 'block' : 'none';\n",
              "\n",
              "        async function convertToInteractive(key) {\n",
              "          const element = document.querySelector('#df-1126e549-3242-47f2-bd33-4d7c3ba9f827');\n",
              "          const dataTable =\n",
              "            await google.colab.kernel.invokeFunction('convertToInteractive',\n",
              "                                                     [key], {});\n",
              "          if (!dataTable) return;\n",
              "\n",
              "          const docLinkHtml = 'Like what you see? Visit the ' +\n",
              "            '<a target=\"_blank\" href=https://colab.research.google.com/notebooks/data_table.ipynb>data table notebook</a>'\n",
              "            + ' to learn more about interactive tables.';\n",
              "          element.innerHTML = '';\n",
              "          dataTable['output_type'] = 'display_data';\n",
              "          await google.colab.output.renderOutput(dataTable, element);\n",
              "          const docLink = document.createElement('div');\n",
              "          docLink.innerHTML = docLinkHtml;\n",
              "          element.appendChild(docLink);\n",
              "        }\n",
              "      </script>\n",
              "    </div>\n",
              "  </div>\n",
              "  "
            ]
          },
          "metadata": {},
          "execution_count": 12
        }
      ],
      "source": [
        "df[df.year.isna()]"
      ]
    },
    {
      "cell_type": "markdown",
      "id": "5f4826d1",
      "metadata": {
        "id": "5f4826d1"
      },
      "source": [
        "5. Обработайте пропуски, удалив записи, в которых год выпуска автомобиля не заполнен, и сохраните обновлённый датафрейм, а затем выведите его размерность.\n"
      ]
    },
    {
      "cell_type": "code",
      "execution_count": 37,
      "id": "ec1eab4f",
      "metadata": {
        "ExecuteTime": {
          "end_time": "2022-01-29T00:18:02.409949Z",
          "start_time": "2022-01-29T00:18:02.404640Z"
        },
        "id": "ec1eab4f",
        "colab": {
          "base_uri": "https://localhost:8080/"
        },
        "outputId": "12a5a2dd-5980-49e0-80db-5c3bee5844d3"
      },
      "outputs": [
        {
          "output_type": "execute_result",
          "data": {
            "text/plain": [
              "197360"
            ]
          },
          "metadata": {},
          "execution_count": 37
        }
      ],
      "source": [
        "df = df.dropna(subset='year')\n",
        "df.size"
      ]
    },
    {
      "cell_type": "markdown",
      "id": "96242d8b",
      "metadata": {
        "id": "96242d8b"
      },
      "source": [
        "6. Выведите количество пропущенных значений в годе выпуска автомобиля для обновлённого датафрейма."
      ]
    },
    {
      "cell_type": "code",
      "execution_count": 38,
      "id": "b7105ead",
      "metadata": {
        "id": "b7105ead",
        "colab": {
          "base_uri": "https://localhost:8080/"
        },
        "outputId": "5de826ce-6911-4272-cb5e-70bbe699f89e"
      },
      "outputs": [
        {
          "output_type": "execute_result",
          "data": {
            "text/plain": [
              "0"
            ]
          },
          "metadata": {},
          "execution_count": 38
        }
      ],
      "source": [
        "df.year.isna().sum()"
      ]
    },
    {
      "cell_type": "markdown",
      "id": "8f2f4996",
      "metadata": {
        "id": "8f2f4996"
      },
      "source": [
        "### Задача 3. Обработка пропусков в типе топлива\n",
        "\n",
        "1. Выведите количество значений для типа топлива, включая пропущенные значения. Обратите внимание на количество пропущенных значений.\n",
        "\n",
        "\n"
      ]
    },
    {
      "cell_type": "code",
      "execution_count": 39,
      "id": "33a21fd9",
      "metadata": {
        "id": "33a21fd9",
        "colab": {
          "base_uri": "https://localhost:8080/"
        },
        "outputId": "27d33976-1d9a-4763-d5a3-568e27acd1fd"
      },
      "outputs": [
        {
          "output_type": "execute_result",
          "data": {
            "text/plain": [
              "gas         8298\n",
              "other        779\n",
              "diesel       643\n",
              "hybrid       104\n",
              "electric      44\n",
              "Name: fuel, dtype: int64"
            ]
          },
          "metadata": {},
          "execution_count": 39
        }
      ],
      "source": [
        "df.fuel.value_counts(dropna=False)"
      ]
    },
    {
      "cell_type": "markdown",
      "id": "b996ea4e",
      "metadata": {
        "id": "b996ea4e"
      },
      "source": [
        "2. Выведите описательные статистики для типа топлива.\n"
      ]
    },
    {
      "cell_type": "code",
      "execution_count": 40,
      "id": "4d5f188c",
      "metadata": {
        "ExecuteTime": {
          "end_time": "2022-01-29T00:29:32.254957Z",
          "start_time": "2022-01-29T00:29:32.251802Z"
        },
        "id": "4d5f188c",
        "colab": {
          "base_uri": "https://localhost:8080/"
        },
        "outputId": "6a8759e3-b458-4758-bf69-3d9df8bedc6f"
      },
      "outputs": [
        {
          "output_type": "execute_result",
          "data": {
            "text/plain": [
              "count     9868\n",
              "unique       5\n",
              "top        gas\n",
              "freq      8298\n",
              "Name: fuel, dtype: object"
            ]
          },
          "metadata": {},
          "execution_count": 40
        }
      ],
      "source": [
        "df.fuel.describe()"
      ]
    },
    {
      "cell_type": "markdown",
      "id": "b2aab1bc",
      "metadata": {
        "id": "b2aab1bc"
      },
      "source": [
        "3. Выведите записи, в которых тип топлива не заполнен. Посмотрите на данные и подумайте, какую стратегию обработки значений можно применить.\n"
      ]
    },
    {
      "cell_type": "code",
      "execution_count": 44,
      "id": "67f0feee",
      "metadata": {
        "ExecuteTime": {
          "end_time": "2022-01-29T23:37:31.879221Z",
          "start_time": "2022-01-29T23:37:31.875360Z"
        },
        "id": "67f0feee",
        "colab": {
          "base_uri": "https://localhost:8080/",
          "height": 113
        },
        "outputId": "8960fb7f-7e94-4ec9-9e6b-f5b513547bf4"
      },
      "outputs": [
        {
          "output_type": "execute_result",
          "data": {
            "text/plain": [
              "Empty DataFrame\n",
              "Columns: [id, url, region, region_url, price, year, manufacturer, model, fuel, odometer, title_status, transmission, image_url, description, state, lat, long, posting_date, price_category, date]\n",
              "Index: []"
            ],
            "text/html": [
              "\n",
              "  <div id=\"df-c23e43a8-99a3-413c-bdf4-58f492c80a0f\">\n",
              "    <div class=\"colab-df-container\">\n",
              "      <div>\n",
              "<style scoped>\n",
              "    .dataframe tbody tr th:only-of-type {\n",
              "        vertical-align: middle;\n",
              "    }\n",
              "\n",
              "    .dataframe tbody tr th {\n",
              "        vertical-align: top;\n",
              "    }\n",
              "\n",
              "    .dataframe thead th {\n",
              "        text-align: right;\n",
              "    }\n",
              "</style>\n",
              "<table border=\"1\" class=\"dataframe\">\n",
              "  <thead>\n",
              "    <tr style=\"text-align: right;\">\n",
              "      <th></th>\n",
              "      <th>id</th>\n",
              "      <th>url</th>\n",
              "      <th>region</th>\n",
              "      <th>region_url</th>\n",
              "      <th>price</th>\n",
              "      <th>year</th>\n",
              "      <th>manufacturer</th>\n",
              "      <th>model</th>\n",
              "      <th>fuel</th>\n",
              "      <th>odometer</th>\n",
              "      <th>title_status</th>\n",
              "      <th>transmission</th>\n",
              "      <th>image_url</th>\n",
              "      <th>description</th>\n",
              "      <th>state</th>\n",
              "      <th>lat</th>\n",
              "      <th>long</th>\n",
              "      <th>posting_date</th>\n",
              "      <th>price_category</th>\n",
              "      <th>date</th>\n",
              "    </tr>\n",
              "  </thead>\n",
              "  <tbody>\n",
              "  </tbody>\n",
              "</table>\n",
              "</div>\n",
              "      <button class=\"colab-df-convert\" onclick=\"convertToInteractive('df-c23e43a8-99a3-413c-bdf4-58f492c80a0f')\"\n",
              "              title=\"Convert this dataframe to an interactive table.\"\n",
              "              style=\"display:none;\">\n",
              "        \n",
              "  <svg xmlns=\"http://www.w3.org/2000/svg\" height=\"24px\"viewBox=\"0 0 24 24\"\n",
              "       width=\"24px\">\n",
              "    <path d=\"M0 0h24v24H0V0z\" fill=\"none\"/>\n",
              "    <path d=\"M18.56 5.44l.94 2.06.94-2.06 2.06-.94-2.06-.94-.94-2.06-.94 2.06-2.06.94zm-11 1L8.5 8.5l.94-2.06 2.06-.94-2.06-.94L8.5 2.5l-.94 2.06-2.06.94zm10 10l.94 2.06.94-2.06 2.06-.94-2.06-.94-.94-2.06-.94 2.06-2.06.94z\"/><path d=\"M17.41 7.96l-1.37-1.37c-.4-.4-.92-.59-1.43-.59-.52 0-1.04.2-1.43.59L10.3 9.45l-7.72 7.72c-.78.78-.78 2.05 0 2.83L4 21.41c.39.39.9.59 1.41.59.51 0 1.02-.2 1.41-.59l7.78-7.78 2.81-2.81c.8-.78.8-2.07 0-2.86zM5.41 20L4 18.59l7.72-7.72 1.47 1.35L5.41 20z\"/>\n",
              "  </svg>\n",
              "      </button>\n",
              "      \n",
              "  <style>\n",
              "    .colab-df-container {\n",
              "      display:flex;\n",
              "      flex-wrap:wrap;\n",
              "      gap: 12px;\n",
              "    }\n",
              "\n",
              "    .colab-df-convert {\n",
              "      background-color: #E8F0FE;\n",
              "      border: none;\n",
              "      border-radius: 50%;\n",
              "      cursor: pointer;\n",
              "      display: none;\n",
              "      fill: #1967D2;\n",
              "      height: 32px;\n",
              "      padding: 0 0 0 0;\n",
              "      width: 32px;\n",
              "    }\n",
              "\n",
              "    .colab-df-convert:hover {\n",
              "      background-color: #E2EBFA;\n",
              "      box-shadow: 0px 1px 2px rgba(60, 64, 67, 0.3), 0px 1px 3px 1px rgba(60, 64, 67, 0.15);\n",
              "      fill: #174EA6;\n",
              "    }\n",
              "\n",
              "    [theme=dark] .colab-df-convert {\n",
              "      background-color: #3B4455;\n",
              "      fill: #D2E3FC;\n",
              "    }\n",
              "\n",
              "    [theme=dark] .colab-df-convert:hover {\n",
              "      background-color: #434B5C;\n",
              "      box-shadow: 0px 1px 3px 1px rgba(0, 0, 0, 0.15);\n",
              "      filter: drop-shadow(0px 1px 2px rgba(0, 0, 0, 0.3));\n",
              "      fill: #FFFFFF;\n",
              "    }\n",
              "  </style>\n",
              "\n",
              "      <script>\n",
              "        const buttonEl =\n",
              "          document.querySelector('#df-c23e43a8-99a3-413c-bdf4-58f492c80a0f button.colab-df-convert');\n",
              "        buttonEl.style.display =\n",
              "          google.colab.kernel.accessAllowed ? 'block' : 'none';\n",
              "\n",
              "        async function convertToInteractive(key) {\n",
              "          const element = document.querySelector('#df-c23e43a8-99a3-413c-bdf4-58f492c80a0f');\n",
              "          const dataTable =\n",
              "            await google.colab.kernel.invokeFunction('convertToInteractive',\n",
              "                                                     [key], {});\n",
              "          if (!dataTable) return;\n",
              "\n",
              "          const docLinkHtml = 'Like what you see? Visit the ' +\n",
              "            '<a target=\"_blank\" href=https://colab.research.google.com/notebooks/data_table.ipynb>data table notebook</a>'\n",
              "            + ' to learn more about interactive tables.';\n",
              "          element.innerHTML = '';\n",
              "          dataTable['output_type'] = 'display_data';\n",
              "          await google.colab.output.renderOutput(dataTable, element);\n",
              "          const docLink = document.createElement('div');\n",
              "          docLink.innerHTML = docLinkHtml;\n",
              "          element.appendChild(docLink);\n",
              "        }\n",
              "      </script>\n",
              "    </div>\n",
              "  </div>\n",
              "  "
            ]
          },
          "metadata": {},
          "execution_count": 44
        }
      ],
      "source": [
        "df[df.fuel.isna()]"
      ]
    },
    {
      "cell_type": "markdown",
      "id": "7b69102c",
      "metadata": {
        "id": "7b69102c"
      },
      "source": [
        "4. Обработайте пропуски, заполнив незаполненные значения типа топлива значением `other`, и сохраните изменения. Обратите внимание, что мы заполняем пропуски не самым популярным значением в выборке.\n"
      ]
    },
    {
      "cell_type": "code",
      "execution_count": 42,
      "id": "c3bd2437",
      "metadata": {
        "id": "c3bd2437",
        "colab": {
          "base_uri": "https://localhost:8080/"
        },
        "outputId": "4e6c2066-d6bf-4b86-ded7-b20271e32b8d"
      },
      "outputs": [
        {
          "output_type": "stream",
          "name": "stderr",
          "text": [
            "<ipython-input-42-e080be79dd01>:1: SettingWithCopyWarning: \n",
            "A value is trying to be set on a copy of a slice from a DataFrame.\n",
            "Try using .loc[row_indexer,col_indexer] = value instead\n",
            "\n",
            "See the caveats in the documentation: https://pandas.pydata.org/pandas-docs/stable/user_guide/indexing.html#returning-a-view-versus-a-copy\n",
            "  df.fuel=df.fuel.fillna('other')\n"
          ]
        }
      ],
      "source": [
        "df.fuel=df.fuel.fillna('other')"
      ]
    },
    {
      "cell_type": "markdown",
      "id": "3cb6701f",
      "metadata": {
        "id": "3cb6701f"
      },
      "source": [
        "5. Выведите для обновлённого датафрейма количество пропущенных значений для типа топлива."
      ]
    },
    {
      "cell_type": "code",
      "execution_count": 43,
      "id": "94a068c8",
      "metadata": {
        "ExecuteTime": {
          "end_time": "2022-01-29T23:41:38.917684Z",
          "start_time": "2022-01-29T23:41:38.912363Z"
        },
        "id": "94a068c8",
        "outputId": "523fad6b-740d-4cb4-ecba-cbfb872f1182",
        "colab": {
          "base_uri": "https://localhost:8080/"
        }
      },
      "outputs": [
        {
          "output_type": "stream",
          "name": "stdout",
          "text": [
            "Количество пропущенных значений в fuel: 0\n"
          ]
        }
      ],
      "source": [
        "print(\"Количество пропущенных значений в fuel:\", df.fuel.isna().sum())  # Допишите код"
      ]
    },
    {
      "cell_type": "markdown",
      "id": "3a5a3b5a",
      "metadata": {
        "ExecuteTime": {
          "end_time": "2022-01-29T00:21:16.896209Z",
          "start_time": "2022-01-29T00:21:16.888894Z"
        },
        "id": "3a5a3b5a"
      },
      "source": [
        "### Задача 4. Обработка пропусков в модели автомобиля\n",
        "\n",
        "1. Выведите количество значений для модели автомобиля, включая пропущенные значения. Обратите внимание на количество пропущенных значений.\n",
        "\n"
      ]
    },
    {
      "cell_type": "code",
      "execution_count": 45,
      "id": "08a6f7d6",
      "metadata": {
        "ExecuteTime": {
          "end_time": "2022-01-29T15:57:41.691082Z",
          "start_time": "2022-01-29T15:57:41.675965Z"
        },
        "id": "08a6f7d6",
        "colab": {
          "base_uri": "https://localhost:8080/"
        },
        "outputId": "7759ebe4-a0e4-4f37-e709-a28f99a91c59"
      },
      "outputs": [
        {
          "output_type": "execute_result",
          "data": {
            "text/plain": [
              "f-150                        148\n",
              "other                        126\n",
              "silverado 1500               106\n",
              "1500                         100\n",
              "camry                         76\n",
              "                            ... \n",
              "sorrento lx v6                 1\n",
              "sierra1500 crewcab 4x4         1\n",
              "corolla se                     1\n",
              "xc60 t6 inscription sport      1\n",
              "a3 2.0t premium plus pzev      1\n",
              "Name: model, Length: 3438, dtype: int64"
            ]
          },
          "metadata": {},
          "execution_count": 45
        }
      ],
      "source": [
        "df.model.value_counts(dropna=False)"
      ]
    },
    {
      "cell_type": "markdown",
      "id": "e2b04990",
      "metadata": {
        "id": "e2b04990"
      },
      "source": [
        "2. Выведите описательные статистики для модели автомобиля.\n"
      ]
    },
    {
      "cell_type": "code",
      "execution_count": 46,
      "id": "cce6d25a",
      "metadata": {
        "id": "cce6d25a",
        "colab": {
          "base_uri": "https://localhost:8080/"
        },
        "outputId": "32073ea8-4dca-49f1-911b-6aa31b0b2bb4"
      },
      "outputs": [
        {
          "output_type": "execute_result",
          "data": {
            "text/plain": [
              "count      9868\n",
              "unique     3438\n",
              "top       f-150\n",
              "freq        148\n",
              "Name: model, dtype: object"
            ]
          },
          "metadata": {},
          "execution_count": 46
        }
      ],
      "source": [
        "df.model.describe()"
      ]
    },
    {
      "cell_type": "markdown",
      "id": "960533a8",
      "metadata": {
        "id": "960533a8"
      },
      "source": [
        "3. Выведите записи, в которых модель автомобиля не заполнена. Посмотрите на данные и подумайте, какую стратегию обработки значений можно применить.\n"
      ]
    },
    {
      "cell_type": "code",
      "execution_count": 47,
      "id": "b7bb7387",
      "metadata": {
        "id": "b7bb7387",
        "colab": {
          "base_uri": "https://localhost:8080/",
          "height": 113
        },
        "outputId": "125b934f-2a05-43f3-9fcf-3f3cfb816158"
      },
      "outputs": [
        {
          "output_type": "execute_result",
          "data": {
            "text/plain": [
              "Empty DataFrame\n",
              "Columns: [id, url, region, region_url, price, year, manufacturer, model, fuel, odometer, title_status, transmission, image_url, description, state, lat, long, posting_date, price_category, date]\n",
              "Index: []"
            ],
            "text/html": [
              "\n",
              "  <div id=\"df-4caf7380-7d64-49c9-9f4d-9df2e1fa2ed0\">\n",
              "    <div class=\"colab-df-container\">\n",
              "      <div>\n",
              "<style scoped>\n",
              "    .dataframe tbody tr th:only-of-type {\n",
              "        vertical-align: middle;\n",
              "    }\n",
              "\n",
              "    .dataframe tbody tr th {\n",
              "        vertical-align: top;\n",
              "    }\n",
              "\n",
              "    .dataframe thead th {\n",
              "        text-align: right;\n",
              "    }\n",
              "</style>\n",
              "<table border=\"1\" class=\"dataframe\">\n",
              "  <thead>\n",
              "    <tr style=\"text-align: right;\">\n",
              "      <th></th>\n",
              "      <th>id</th>\n",
              "      <th>url</th>\n",
              "      <th>region</th>\n",
              "      <th>region_url</th>\n",
              "      <th>price</th>\n",
              "      <th>year</th>\n",
              "      <th>manufacturer</th>\n",
              "      <th>model</th>\n",
              "      <th>fuel</th>\n",
              "      <th>odometer</th>\n",
              "      <th>title_status</th>\n",
              "      <th>transmission</th>\n",
              "      <th>image_url</th>\n",
              "      <th>description</th>\n",
              "      <th>state</th>\n",
              "      <th>lat</th>\n",
              "      <th>long</th>\n",
              "      <th>posting_date</th>\n",
              "      <th>price_category</th>\n",
              "      <th>date</th>\n",
              "    </tr>\n",
              "  </thead>\n",
              "  <tbody>\n",
              "  </tbody>\n",
              "</table>\n",
              "</div>\n",
              "      <button class=\"colab-df-convert\" onclick=\"convertToInteractive('df-4caf7380-7d64-49c9-9f4d-9df2e1fa2ed0')\"\n",
              "              title=\"Convert this dataframe to an interactive table.\"\n",
              "              style=\"display:none;\">\n",
              "        \n",
              "  <svg xmlns=\"http://www.w3.org/2000/svg\" height=\"24px\"viewBox=\"0 0 24 24\"\n",
              "       width=\"24px\">\n",
              "    <path d=\"M0 0h24v24H0V0z\" fill=\"none\"/>\n",
              "    <path d=\"M18.56 5.44l.94 2.06.94-2.06 2.06-.94-2.06-.94-.94-2.06-.94 2.06-2.06.94zm-11 1L8.5 8.5l.94-2.06 2.06-.94-2.06-.94L8.5 2.5l-.94 2.06-2.06.94zm10 10l.94 2.06.94-2.06 2.06-.94-2.06-.94-.94-2.06-.94 2.06-2.06.94z\"/><path d=\"M17.41 7.96l-1.37-1.37c-.4-.4-.92-.59-1.43-.59-.52 0-1.04.2-1.43.59L10.3 9.45l-7.72 7.72c-.78.78-.78 2.05 0 2.83L4 21.41c.39.39.9.59 1.41.59.51 0 1.02-.2 1.41-.59l7.78-7.78 2.81-2.81c.8-.78.8-2.07 0-2.86zM5.41 20L4 18.59l7.72-7.72 1.47 1.35L5.41 20z\"/>\n",
              "  </svg>\n",
              "      </button>\n",
              "      \n",
              "  <style>\n",
              "    .colab-df-container {\n",
              "      display:flex;\n",
              "      flex-wrap:wrap;\n",
              "      gap: 12px;\n",
              "    }\n",
              "\n",
              "    .colab-df-convert {\n",
              "      background-color: #E8F0FE;\n",
              "      border: none;\n",
              "      border-radius: 50%;\n",
              "      cursor: pointer;\n",
              "      display: none;\n",
              "      fill: #1967D2;\n",
              "      height: 32px;\n",
              "      padding: 0 0 0 0;\n",
              "      width: 32px;\n",
              "    }\n",
              "\n",
              "    .colab-df-convert:hover {\n",
              "      background-color: #E2EBFA;\n",
              "      box-shadow: 0px 1px 2px rgba(60, 64, 67, 0.3), 0px 1px 3px 1px rgba(60, 64, 67, 0.15);\n",
              "      fill: #174EA6;\n",
              "    }\n",
              "\n",
              "    [theme=dark] .colab-df-convert {\n",
              "      background-color: #3B4455;\n",
              "      fill: #D2E3FC;\n",
              "    }\n",
              "\n",
              "    [theme=dark] .colab-df-convert:hover {\n",
              "      background-color: #434B5C;\n",
              "      box-shadow: 0px 1px 3px 1px rgba(0, 0, 0, 0.15);\n",
              "      filter: drop-shadow(0px 1px 2px rgba(0, 0, 0, 0.3));\n",
              "      fill: #FFFFFF;\n",
              "    }\n",
              "  </style>\n",
              "\n",
              "      <script>\n",
              "        const buttonEl =\n",
              "          document.querySelector('#df-4caf7380-7d64-49c9-9f4d-9df2e1fa2ed0 button.colab-df-convert');\n",
              "        buttonEl.style.display =\n",
              "          google.colab.kernel.accessAllowed ? 'block' : 'none';\n",
              "\n",
              "        async function convertToInteractive(key) {\n",
              "          const element = document.querySelector('#df-4caf7380-7d64-49c9-9f4d-9df2e1fa2ed0');\n",
              "          const dataTable =\n",
              "            await google.colab.kernel.invokeFunction('convertToInteractive',\n",
              "                                                     [key], {});\n",
              "          if (!dataTable) return;\n",
              "\n",
              "          const docLinkHtml = 'Like what you see? Visit the ' +\n",
              "            '<a target=\"_blank\" href=https://colab.research.google.com/notebooks/data_table.ipynb>data table notebook</a>'\n",
              "            + ' to learn more about interactive tables.';\n",
              "          element.innerHTML = '';\n",
              "          dataTable['output_type'] = 'display_data';\n",
              "          await google.colab.output.renderOutput(dataTable, element);\n",
              "          const docLink = document.createElement('div');\n",
              "          docLink.innerHTML = docLinkHtml;\n",
              "          element.appendChild(docLink);\n",
              "        }\n",
              "      </script>\n",
              "    </div>\n",
              "  </div>\n",
              "  "
            ]
          },
          "metadata": {},
          "execution_count": 47
        }
      ],
      "source": [
        "df[df.model.isna()]"
      ]
    },
    {
      "cell_type": "markdown",
      "id": "c74dbec2",
      "metadata": {
        "id": "c74dbec2"
      },
      "source": [
        "4. Если подробнее изучить значения описания автомобиля, то, возможно, модель автомобиля получится восстановить из описания. Сейчас обработайте пропуски, заполнив незаполненные значения модели автомобиля значением `other`, и сохраните изменения. Обратите внимание, что мы в очередной раз заполняем пропуски не самым популярным значением в выборке.\n"
      ]
    },
    {
      "cell_type": "code",
      "execution_count": 48,
      "id": "4f910cd1",
      "metadata": {
        "id": "4f910cd1",
        "colab": {
          "base_uri": "https://localhost:8080/"
        },
        "outputId": "c0c12219-7279-460c-cfeb-83acf4140f51"
      },
      "outputs": [
        {
          "output_type": "stream",
          "name": "stderr",
          "text": [
            "<ipython-input-48-bbc0ae4dfedd>:1: SettingWithCopyWarning: \n",
            "A value is trying to be set on a copy of a slice from a DataFrame.\n",
            "Try using .loc[row_indexer,col_indexer] = value instead\n",
            "\n",
            "See the caveats in the documentation: https://pandas.pydata.org/pandas-docs/stable/user_guide/indexing.html#returning-a-view-versus-a-copy\n",
            "  df.model=df.model.fillna('other')\n"
          ]
        }
      ],
      "source": [
        "df.model=df.model.fillna('other')"
      ]
    },
    {
      "cell_type": "markdown",
      "id": "ca268e24",
      "metadata": {
        "id": "ca268e24"
      },
      "source": [
        "5. Выведите для обновлённого датафрейма количество пропущенных значений для модели автомобиля."
      ]
    },
    {
      "cell_type": "code",
      "execution_count": 49,
      "id": "2ca76c69",
      "metadata": {
        "id": "2ca76c69",
        "colab": {
          "base_uri": "https://localhost:8080/"
        },
        "outputId": "28f97d03-7b11-4f94-bd0a-718e4efbad05"
      },
      "outputs": [
        {
          "output_type": "stream",
          "name": "stdout",
          "text": [
            "Количество пропущенных значений в model: 0\n"
          ]
        }
      ],
      "source": [
        "print(\"Количество пропущенных значений в model:\", df.model.isna().sum())  # Допишите код"
      ]
    },
    {
      "cell_type": "markdown",
      "id": "7b18d51a",
      "metadata": {
        "ExecuteTime": {
          "end_time": "2022-01-29T23:59:37.851299Z",
          "start_time": "2022-01-29T23:59:37.835225Z"
        },
        "id": "7b18d51a"
      },
      "source": [
        "### Задача 5. Обработка пропусков в статусе автомобиля\n",
        "\n",
        "1. Выведите количество значений для статуса автомобиля, включая пропущенные значения. Обратите внимание на количество пропущенных значений.\n"
      ]
    },
    {
      "cell_type": "code",
      "execution_count": 50,
      "id": "0e35ec5d",
      "metadata": {
        "id": "0e35ec5d",
        "colab": {
          "base_uri": "https://localhost:8080/"
        },
        "outputId": "36e7d092-50cd-46c9-ea58-6214c2b84435"
      },
      "outputs": [
        {
          "output_type": "execute_result",
          "data": {
            "text/plain": [
              "clean         9556\n",
              "rebuilt        168\n",
              "salvage         91\n",
              "lien            35\n",
              "missing         16\n",
              "parts only       2\n",
              "Name: title_status, dtype: int64"
            ]
          },
          "metadata": {},
          "execution_count": 50
        }
      ],
      "source": [
        "df.title_status.value_counts(dropna=False)"
      ]
    },
    {
      "cell_type": "markdown",
      "id": "cb04e35d",
      "metadata": {
        "id": "cb04e35d"
      },
      "source": [
        "2. Выведите описательные статистики для модели автомобиля.\n",
        "\n"
      ]
    },
    {
      "cell_type": "code",
      "execution_count": 51,
      "id": "f1b5bdaf",
      "metadata": {
        "id": "f1b5bdaf",
        "colab": {
          "base_uri": "https://localhost:8080/"
        },
        "outputId": "91718f03-70fc-4707-af3a-5948d85ec9b6"
      },
      "outputs": [
        {
          "output_type": "execute_result",
          "data": {
            "text/plain": [
              "count      9868\n",
              "unique        6\n",
              "top       clean\n",
              "freq       9556\n",
              "Name: title_status, dtype: object"
            ]
          },
          "metadata": {},
          "execution_count": 51
        }
      ],
      "source": [
        "df.title_status.describe()"
      ]
    },
    {
      "cell_type": "markdown",
      "id": "ae924298",
      "metadata": {
        "id": "ae924298"
      },
      "source": [
        "3. Выведите записи, в которых статус автомобиля не заполнен. Посмотрите на данные и подумайте, какую стратегию обработки значений можно применить.\n"
      ]
    },
    {
      "cell_type": "code",
      "execution_count": 53,
      "id": "45d70a32",
      "metadata": {
        "ExecuteTime": {
          "end_time": "2022-01-30T00:01:43.737968Z",
          "start_time": "2022-01-30T00:01:43.735051Z"
        },
        "id": "45d70a32",
        "colab": {
          "base_uri": "https://localhost:8080/",
          "height": 113
        },
        "outputId": "39483cd0-5500-4344-d84a-92eccdc68eaf"
      },
      "outputs": [
        {
          "output_type": "execute_result",
          "data": {
            "text/plain": [
              "Empty DataFrame\n",
              "Columns: [id, url, region, region_url, price, year, manufacturer, model, fuel, odometer, title_status, transmission, image_url, description, state, lat, long, posting_date, price_category, date]\n",
              "Index: []"
            ],
            "text/html": [
              "\n",
              "  <div id=\"df-5814fa41-acb9-47cd-b051-1c278de27f35\">\n",
              "    <div class=\"colab-df-container\">\n",
              "      <div>\n",
              "<style scoped>\n",
              "    .dataframe tbody tr th:only-of-type {\n",
              "        vertical-align: middle;\n",
              "    }\n",
              "\n",
              "    .dataframe tbody tr th {\n",
              "        vertical-align: top;\n",
              "    }\n",
              "\n",
              "    .dataframe thead th {\n",
              "        text-align: right;\n",
              "    }\n",
              "</style>\n",
              "<table border=\"1\" class=\"dataframe\">\n",
              "  <thead>\n",
              "    <tr style=\"text-align: right;\">\n",
              "      <th></th>\n",
              "      <th>id</th>\n",
              "      <th>url</th>\n",
              "      <th>region</th>\n",
              "      <th>region_url</th>\n",
              "      <th>price</th>\n",
              "      <th>year</th>\n",
              "      <th>manufacturer</th>\n",
              "      <th>model</th>\n",
              "      <th>fuel</th>\n",
              "      <th>odometer</th>\n",
              "      <th>title_status</th>\n",
              "      <th>transmission</th>\n",
              "      <th>image_url</th>\n",
              "      <th>description</th>\n",
              "      <th>state</th>\n",
              "      <th>lat</th>\n",
              "      <th>long</th>\n",
              "      <th>posting_date</th>\n",
              "      <th>price_category</th>\n",
              "      <th>date</th>\n",
              "    </tr>\n",
              "  </thead>\n",
              "  <tbody>\n",
              "  </tbody>\n",
              "</table>\n",
              "</div>\n",
              "      <button class=\"colab-df-convert\" onclick=\"convertToInteractive('df-5814fa41-acb9-47cd-b051-1c278de27f35')\"\n",
              "              title=\"Convert this dataframe to an interactive table.\"\n",
              "              style=\"display:none;\">\n",
              "        \n",
              "  <svg xmlns=\"http://www.w3.org/2000/svg\" height=\"24px\"viewBox=\"0 0 24 24\"\n",
              "       width=\"24px\">\n",
              "    <path d=\"M0 0h24v24H0V0z\" fill=\"none\"/>\n",
              "    <path d=\"M18.56 5.44l.94 2.06.94-2.06 2.06-.94-2.06-.94-.94-2.06-.94 2.06-2.06.94zm-11 1L8.5 8.5l.94-2.06 2.06-.94-2.06-.94L8.5 2.5l-.94 2.06-2.06.94zm10 10l.94 2.06.94-2.06 2.06-.94-2.06-.94-.94-2.06-.94 2.06-2.06.94z\"/><path d=\"M17.41 7.96l-1.37-1.37c-.4-.4-.92-.59-1.43-.59-.52 0-1.04.2-1.43.59L10.3 9.45l-7.72 7.72c-.78.78-.78 2.05 0 2.83L4 21.41c.39.39.9.59 1.41.59.51 0 1.02-.2 1.41-.59l7.78-7.78 2.81-2.81c.8-.78.8-2.07 0-2.86zM5.41 20L4 18.59l7.72-7.72 1.47 1.35L5.41 20z\"/>\n",
              "  </svg>\n",
              "      </button>\n",
              "      \n",
              "  <style>\n",
              "    .colab-df-container {\n",
              "      display:flex;\n",
              "      flex-wrap:wrap;\n",
              "      gap: 12px;\n",
              "    }\n",
              "\n",
              "    .colab-df-convert {\n",
              "      background-color: #E8F0FE;\n",
              "      border: none;\n",
              "      border-radius: 50%;\n",
              "      cursor: pointer;\n",
              "      display: none;\n",
              "      fill: #1967D2;\n",
              "      height: 32px;\n",
              "      padding: 0 0 0 0;\n",
              "      width: 32px;\n",
              "    }\n",
              "\n",
              "    .colab-df-convert:hover {\n",
              "      background-color: #E2EBFA;\n",
              "      box-shadow: 0px 1px 2px rgba(60, 64, 67, 0.3), 0px 1px 3px 1px rgba(60, 64, 67, 0.15);\n",
              "      fill: #174EA6;\n",
              "    }\n",
              "\n",
              "    [theme=dark] .colab-df-convert {\n",
              "      background-color: #3B4455;\n",
              "      fill: #D2E3FC;\n",
              "    }\n",
              "\n",
              "    [theme=dark] .colab-df-convert:hover {\n",
              "      background-color: #434B5C;\n",
              "      box-shadow: 0px 1px 3px 1px rgba(0, 0, 0, 0.15);\n",
              "      filter: drop-shadow(0px 1px 2px rgba(0, 0, 0, 0.3));\n",
              "      fill: #FFFFFF;\n",
              "    }\n",
              "  </style>\n",
              "\n",
              "      <script>\n",
              "        const buttonEl =\n",
              "          document.querySelector('#df-5814fa41-acb9-47cd-b051-1c278de27f35 button.colab-df-convert');\n",
              "        buttonEl.style.display =\n",
              "          google.colab.kernel.accessAllowed ? 'block' : 'none';\n",
              "\n",
              "        async function convertToInteractive(key) {\n",
              "          const element = document.querySelector('#df-5814fa41-acb9-47cd-b051-1c278de27f35');\n",
              "          const dataTable =\n",
              "            await google.colab.kernel.invokeFunction('convertToInteractive',\n",
              "                                                     [key], {});\n",
              "          if (!dataTable) return;\n",
              "\n",
              "          const docLinkHtml = 'Like what you see? Visit the ' +\n",
              "            '<a target=\"_blank\" href=https://colab.research.google.com/notebooks/data_table.ipynb>data table notebook</a>'\n",
              "            + ' to learn more about interactive tables.';\n",
              "          element.innerHTML = '';\n",
              "          dataTable['output_type'] = 'display_data';\n",
              "          await google.colab.output.renderOutput(dataTable, element);\n",
              "          const docLink = document.createElement('div');\n",
              "          docLink.innerHTML = docLinkHtml;\n",
              "          element.appendChild(docLink);\n",
              "        }\n",
              "      </script>\n",
              "    </div>\n",
              "  </div>\n",
              "  "
            ]
          },
          "metadata": {},
          "execution_count": 53
        }
      ],
      "source": [
        "df[df.title_status.isna()]"
      ]
    },
    {
      "cell_type": "markdown",
      "id": "d36289b1",
      "metadata": {
        "id": "d36289b1"
      },
      "source": [
        "4. Обработайте пропуски, заполнив незаполненные значения статуса автомобиля самым популярным значением, и сохраните изменения. Самое популярное значение передайте не в виде строки, а получите моду.\n"
      ]
    },
    {
      "cell_type": "code",
      "execution_count": 54,
      "id": "10883943",
      "metadata": {
        "id": "10883943",
        "colab": {
          "base_uri": "https://localhost:8080/"
        },
        "outputId": "4ffd4819-d4cc-4a7e-ec56-ce84d0018dcc"
      },
      "outputs": [
        {
          "output_type": "stream",
          "name": "stderr",
          "text": [
            "<ipython-input-54-bef23dcc5f71>:1: SettingWithCopyWarning: \n",
            "A value is trying to be set on a copy of a slice from a DataFrame.\n",
            "Try using .loc[row_indexer,col_indexer] = value instead\n",
            "\n",
            "See the caveats in the documentation: https://pandas.pydata.org/pandas-docs/stable/user_guide/indexing.html#returning-a-view-versus-a-copy\n",
            "  df.title_status=df.title_status.fillna(df.title_status.mode()[0])\n"
          ]
        }
      ],
      "source": [
        "df.title_status=df.title_status.fillna(df.title_status.mode()[0])"
      ]
    },
    {
      "cell_type": "markdown",
      "id": "939969e6",
      "metadata": {
        "id": "939969e6"
      },
      "source": [
        "5. Выведите для обновлённого датафрейма количество пропущенных значений для статуса автомобиля.\n"
      ]
    },
    {
      "cell_type": "code",
      "execution_count": 56,
      "id": "c3139354",
      "metadata": {
        "id": "c3139354",
        "colab": {
          "base_uri": "https://localhost:8080/"
        },
        "outputId": "a7649d00-1d95-4c70-e678-d0169d5d4348"
      },
      "outputs": [
        {
          "output_type": "stream",
          "name": "stdout",
          "text": [
            "Количество пропущенных значений в title_status: 0\n"
          ]
        }
      ],
      "source": [
        "print(\"Количество пропущенных значений в title_status:\", df.title_status.isna().sum())  # Допишите код"
      ]
    },
    {
      "cell_type": "markdown",
      "id": "b9ed8462",
      "metadata": {
        "id": "b9ed8462"
      },
      "source": [
        "6. Ещё раз выведите количество полностью заполненных объектов и их процент из всей выборки. После обработки всех пропусков можно переходить к следующему этапу."
      ]
    },
    {
      "cell_type": "code",
      "execution_count": 57,
      "id": "6fedeb3c",
      "metadata": {
        "id": "6fedeb3c",
        "colab": {
          "base_uri": "https://localhost:8080/"
        },
        "outputId": "4425736d-0476-4bf2-92b8-8ef64596615f"
      },
      "outputs": [
        {
          "output_type": "stream",
          "name": "stdout",
          "text": [
            "Количество полностью заполненных объектов:\n",
            "9868\n",
            "Их процент из всей выборки:\n",
            "100.0\n"
          ]
        }
      ],
      "source": [
        "print(f'Количество полностью заполненных объектов:\\n{len(df.dropna())}')\n",
        "print(f'Их процент из всей выборки:\\n{round(len(df.dropna())/len(df)*100, 2)}')"
      ]
    },
    {
      "cell_type": "markdown",
      "id": "407df76a",
      "metadata": {
        "ExecuteTime": {
          "end_time": "2022-01-30T00:13:50.405251Z",
          "start_time": "2022-01-30T00:13:50.398978Z"
        },
        "id": "407df76a"
      },
      "source": [
        "### Задача 6. Преобразование типа данных в годе выпуска автомобиля\n",
        "1.  Выведите информацию о датафрейме и обратите внимание на типы данных.\n"
      ]
    },
    {
      "cell_type": "code",
      "execution_count": 32,
      "id": "f3d4d751",
      "metadata": {
        "id": "f3d4d751",
        "colab": {
          "base_uri": "https://localhost:8080/"
        },
        "outputId": "2cd1276f-9730-49da-e4d5-dd8290314a79"
      },
      "outputs": [
        {
          "output_type": "stream",
          "name": "stdout",
          "text": [
            "<class 'pandas.core.frame.DataFrame'>\n",
            "RangeIndex: 9902 entries, 0 to 9901\n",
            "Data columns (total 20 columns):\n",
            " #   Column          Non-Null Count  Dtype  \n",
            "---  ------          --------------  -----  \n",
            " 0   id              9902 non-null   int64  \n",
            " 1   url             9902 non-null   object \n",
            " 2   region          9902 non-null   object \n",
            " 3   region_url      9902 non-null   object \n",
            " 4   price           9902 non-null   int64  \n",
            " 5   year            9868 non-null   float64\n",
            " 6   manufacturer    9902 non-null   object \n",
            " 7   model           9902 non-null   object \n",
            " 8   fuel            9902 non-null   object \n",
            " 9   odometer        9902 non-null   int64  \n",
            " 10  title_status    9902 non-null   object \n",
            " 11  transmission    9902 non-null   object \n",
            " 12  image_url       9902 non-null   object \n",
            " 13  description     9902 non-null   object \n",
            " 14  state           9902 non-null   object \n",
            " 15  lat             9902 non-null   float64\n",
            " 16  long            9902 non-null   float64\n",
            " 17  posting_date    9902 non-null   object \n",
            " 18  price_category  9902 non-null   object \n",
            " 19  date            9902 non-null   object \n",
            "dtypes: float64(3), int64(3), object(14)\n",
            "memory usage: 1.5+ MB\n"
          ]
        }
      ],
      "source": [
        "df.info()"
      ]
    },
    {
      "cell_type": "markdown",
      "id": "71561e8d",
      "metadata": {
        "id": "71561e8d"
      },
      "source": [
        "2. Выведите описательные статистики для года выпуска автомобиля. Обратите внимание на тип данных.\n",
        "\n"
      ]
    },
    {
      "cell_type": "code",
      "execution_count": 58,
      "id": "29919539",
      "metadata": {
        "id": "29919539",
        "colab": {
          "base_uri": "https://localhost:8080/"
        },
        "outputId": "8670864c-eb0b-47dc-efbd-20326c215a8d"
      },
      "outputs": [
        {
          "output_type": "execute_result",
          "data": {
            "text/plain": [
              "count    9868.000000\n",
              "mean     2010.909708\n",
              "std         9.705988\n",
              "min      1915.000000\n",
              "25%      2008.000000\n",
              "50%      2013.000000\n",
              "75%      2017.000000\n",
              "max      2022.000000\n",
              "Name: year, dtype: float64"
            ]
          },
          "metadata": {},
          "execution_count": 58
        }
      ],
      "source": [
        "df.year.describe()"
      ]
    },
    {
      "cell_type": "markdown",
      "id": "1efd4a88",
      "metadata": {
        "id": "1efd4a88"
      },
      "source": [
        "3. Измените тип данных для года выпуска на более подходящий целочисленный тип и выведите получившийся тип данных только для года выпуска."
      ]
    },
    {
      "cell_type": "code",
      "execution_count": 60,
      "id": "edf757e9",
      "metadata": {
        "id": "edf757e9",
        "colab": {
          "base_uri": "https://localhost:8080/"
        },
        "outputId": "d76296dd-28dc-46ea-f4a8-67baaec777c4"
      },
      "outputs": [
        {
          "output_type": "stream",
          "name": "stderr",
          "text": [
            "<ipython-input-60-7f5e8f82cb47>:1: SettingWithCopyWarning: \n",
            "A value is trying to be set on a copy of a slice from a DataFrame.\n",
            "Try using .loc[row_indexer,col_indexer] = value instead\n",
            "\n",
            "See the caveats in the documentation: https://pandas.pydata.org/pandas-docs/stable/user_guide/indexing.html#returning-a-view-versus-a-copy\n",
            "  df.year=df.year.astype(int)\n"
          ]
        }
      ],
      "source": [
        "df.year=df.year.astype(int)"
      ]
    },
    {
      "cell_type": "code",
      "source": [
        "df.year.dtype"
      ],
      "metadata": {
        "colab": {
          "base_uri": "https://localhost:8080/"
        },
        "id": "BktQ3bM9A5CT",
        "outputId": "e5c63353-7d5f-46ab-816c-39343c0bcfa6"
      },
      "id": "BktQ3bM9A5CT",
      "execution_count": 65,
      "outputs": [
        {
          "output_type": "execute_result",
          "data": {
            "text/plain": [
              "dtype('int64')"
            ]
          },
          "metadata": {},
          "execution_count": 65
        }
      ]
    },
    {
      "cell_type": "markdown",
      "id": "7c27a6d1",
      "metadata": {
        "id": "7c27a6d1"
      },
      "source": [
        "### Задача 7. Преобразование типа данных в категориальных переменных\n",
        "\n",
        "1. Выведите тип данных для типа топлива автомобиля.\n"
      ]
    },
    {
      "cell_type": "code",
      "execution_count": 66,
      "id": "1eb44d15",
      "metadata": {
        "id": "1eb44d15",
        "colab": {
          "base_uri": "https://localhost:8080/"
        },
        "outputId": "fe876988-2d6a-441f-cf32-2ab06a37955b"
      },
      "outputs": [
        {
          "output_type": "execute_result",
          "data": {
            "text/plain": [
              "dtype('O')"
            ]
          },
          "metadata": {},
          "execution_count": 66
        }
      ],
      "source": [
        "df.fuel.dtype"
      ]
    },
    {
      "cell_type": "markdown",
      "id": "a6b63b6b",
      "metadata": {
        "id": "a6b63b6b"
      },
      "source": [
        "2. Категориальным переменным можно задавать специальный тип данных `category`. Подробнее об этом можно прочитать в [документации](https://pandas.pydata.org/pandas-docs/stable/user_guide/categorical.html). Укажите для типа топлива тип данных `category`, сохраните изменения в переменную `series` и выведите её.\n"
      ]
    },
    {
      "cell_type": "code",
      "execution_count": 70,
      "id": "c5d4ba82",
      "metadata": {
        "id": "c5d4ba82",
        "colab": {
          "base_uri": "https://localhost:8080/"
        },
        "outputId": "7c00cd91-15ea-477a-b299-13ce99ba9282"
      },
      "outputs": [
        {
          "output_type": "execute_result",
          "data": {
            "text/plain": [
              "0       diesel\n",
              "1        other\n",
              "2          gas\n",
              "3          gas\n",
              "4          gas\n",
              "         ...  \n",
              "9897       gas\n",
              "9898       gas\n",
              "9899       gas\n",
              "9900    hybrid\n",
              "9901       gas\n",
              "Name: fuel, Length: 9868, dtype: category\n",
              "Categories (5, object): ['diesel', 'electric', 'gas', 'hybrid', 'other']"
            ]
          },
          "metadata": {},
          "execution_count": 70
        }
      ],
      "source": [
        "series=df.fuel.astype('category')\n",
        "series"
      ]
    },
    {
      "cell_type": "markdown",
      "id": "18649b60",
      "metadata": {
        "id": "18649b60"
      },
      "source": [
        "3. Выведите тип данных для серии. Обратите внимание на структуру вывода."
      ]
    },
    {
      "cell_type": "code",
      "execution_count": 74,
      "id": "2c6ccc89",
      "metadata": {
        "id": "2c6ccc89",
        "colab": {
          "base_uri": "https://localhost:8080/"
        },
        "outputId": "e17c1c37-7ac6-475c-e9f5-05a1310a712e"
      },
      "outputs": [
        {
          "output_type": "execute_result",
          "data": {
            "text/plain": [
              "CategoricalDtype(categories=['diesel', 'electric', 'gas', 'hybrid', 'other'], ordered=False)"
            ]
          },
          "metadata": {},
          "execution_count": 74
        }
      ],
      "source": [
        "series.dtype"
      ]
    },
    {
      "cell_type": "markdown",
      "id": "7785ab5a",
      "metadata": {
        "id": "7785ab5a"
      },
      "source": [
        "4. Выведите первые две категории, используя вывод типа данных выше."
      ]
    },
    {
      "cell_type": "code",
      "execution_count": 80,
      "id": "1dbe47fa",
      "metadata": {
        "ExecuteTime": {
          "end_time": "2022-01-30T00:38:20.120004Z",
          "start_time": "2022-01-30T00:38:20.116934Z"
        },
        "id": "1dbe47fa",
        "colab": {
          "base_uri": "https://localhost:8080/"
        },
        "outputId": "68f53b0a-7e6e-46aa-807a-e93ab4573f92"
      },
      "outputs": [
        {
          "output_type": "execute_result",
          "data": {
            "text/plain": [
              "Index(['diesel', 'electric'], dtype='object')"
            ]
          },
          "metadata": {},
          "execution_count": 80
        }
      ],
      "source": [
        "series.dtypes.categories[0:2]"
      ]
    },
    {
      "cell_type": "markdown",
      "id": "7ca0b6ac",
      "metadata": {
        "ExecuteTime": {
          "end_time": "2022-01-30T00:39:15.501238Z",
          "start_time": "2022-01-30T00:39:15.492712Z"
        },
        "id": "7ca0b6ac"
      },
      "source": [
        "### Задача 8. Выбросы в годе выпуска\n",
        "\n",
        "1. Выведите описательные статистики для года выпуска автомобиля. Обратите внимание на пограничные значения, на квартили.\n",
        "\n"
      ]
    },
    {
      "cell_type": "code",
      "execution_count": 81,
      "id": "4eb87cc4",
      "metadata": {
        "id": "4eb87cc4",
        "colab": {
          "base_uri": "https://localhost:8080/"
        },
        "outputId": "4bc450dc-6d99-4e21-8d2e-a2fd62c35e2c"
      },
      "outputs": [
        {
          "output_type": "execute_result",
          "data": {
            "text/plain": [
              "count    9868.000000\n",
              "mean     2010.909708\n",
              "std         9.705988\n",
              "min      1915.000000\n",
              "25%      2008.000000\n",
              "50%      2013.000000\n",
              "75%      2017.000000\n",
              "max      2022.000000\n",
              "Name: year, dtype: float64"
            ]
          },
          "metadata": {},
          "execution_count": 81
        }
      ],
      "source": [
        "df.year.describe()"
      ]
    },
    {
      "cell_type": "markdown",
      "id": "ea7d4621",
      "metadata": {
        "id": "ea7d4621"
      },
      "source": [
        "2. Выведите границы для нормальных значений года выпуска, используя интерквартильный размах. Воспользуйтесь материалами из видео. Посмотрите, входят ли минимальное и максимальное значения в интервал между полученными границами.\n"
      ]
    },
    {
      "cell_type": "code",
      "execution_count": 90,
      "id": "5332e1b7",
      "metadata": {
        "ExecuteTime": {
          "end_time": "2022-01-30T19:40:37.156318Z",
          "start_time": "2022-01-30T19:40:37.148044Z"
        },
        "id": "5332e1b7",
        "colab": {
          "base_uri": "https://localhost:8080/"
        },
        "outputId": "cab6fc81-8573-4024-c01c-f3c3e30e5954"
      },
      "outputs": [
        {
          "output_type": "execute_result",
          "data": {
            "text/plain": [
              "(1994.5, 2030.5)"
            ]
          },
          "metadata": {},
          "execution_count": 90
        }
      ],
      "source": [
        "def calculate_outliers(data):\n",
        "    q25 = data.quantile(0.25)  \n",
        "    q75 = data.quantile(0.75)\n",
        "    iqr = q75 - q25\n",
        "    boundaries = (q25 - 1.5 * iqr, q75 + 1.5 * iqr)\n",
        "    return boundaries\n",
        "\n",
        "boundaries = calculate_outliers(df.year)\n",
        "boundaries"
      ]
    },
    {
      "cell_type": "markdown",
      "id": "35061225",
      "metadata": {
        "id": "35061225"
      },
      "source": [
        "3. Посчитайте и выведите количество выбросов в годе выпуска автомобиля.\n"
      ]
    },
    {
      "cell_type": "code",
      "execution_count": 101,
      "id": "0e994229",
      "metadata": {
        "ExecuteTime": {
          "end_time": "2022-01-30T19:49:50.433110Z",
          "start_time": "2022-01-30T19:49:50.429087Z"
        },
        "id": "0e994229",
        "colab": {
          "base_uri": "https://localhost:8080/"
        },
        "outputId": "fe9fe5ef-631a-482d-b481-2c572969844c"
      },
      "outputs": [
        {
          "output_type": "execute_result",
          "data": {
            "text/plain": [
              "394"
            ]
          },
          "metadata": {},
          "execution_count": 101
        }
      ],
      "source": [
        "is_outl = (df.year < boundaries[0]) | (df.year > boundaries[1])\n",
        "is_outl.sum()"
      ]
    },
    {
      "cell_type": "markdown",
      "id": "bdd795fd",
      "metadata": {
        "id": "bdd795fd"
      },
      "source": [
        "4. Посчитайте и выведите долю выбросов в годе выпуска автомобиля.\n"
      ]
    },
    {
      "cell_type": "code",
      "execution_count": 94,
      "id": "88ed9939",
      "metadata": {
        "ExecuteTime": {
          "end_time": "2022-01-30T19:53:31.931143Z",
          "start_time": "2022-01-30T19:53:31.919541Z"
        },
        "id": "88ed9939",
        "colab": {
          "base_uri": "https://localhost:8080/"
        },
        "outputId": "d825c9af-4b78-4636-cfb1-8c178189d502"
      },
      "outputs": [
        {
          "output_type": "execute_result",
          "data": {
            "text/plain": [
              "0.03992703688690717"
            ]
          },
          "metadata": {},
          "execution_count": 94
        }
      ],
      "source": [
        "is_outl.sum()/len(df)"
      ]
    },
    {
      "cell_type": "markdown",
      "id": "766d5606",
      "metadata": {
        "id": "766d5606"
      },
      "source": [
        "5. Выведите записи, в которых год выпуска попадает в выбросы. Посмотрите на данные и подумайте, могут ли эти выбросы описывать особые значения категории цены или других признаков или действительно являются выбросами.\n"
      ]
    },
    {
      "cell_type": "code",
      "execution_count": 96,
      "id": "f4c0956d",
      "metadata": {
        "ExecuteTime": {
          "end_time": "2022-01-30T20:02:12.952212Z",
          "start_time": "2022-01-30T20:02:12.947496Z"
        },
        "id": "f4c0956d",
        "colab": {
          "base_uri": "https://localhost:8080/",
          "height": 1000
        },
        "outputId": "5ab7889a-055b-4466-f38f-34055c1feff4"
      },
      "outputs": [
        {
          "output_type": "execute_result",
          "data": {
            "text/plain": [
              "              id                                                url  \\\n",
              "13    7317089086  https://seattle.craigslist.org/see/ctd/d/portl...   \n",
              "21    7312327909  https://madison.craigslist.org/cto/d/madison-1...   \n",
              "57    7314413105  https://inlandempire.craigslist.org/ctd/d/cost...   \n",
              "66    7310077530  https://hudsonvalley.craigslist.org/cto/d/bloo...   \n",
              "106   7314527175  https://rapidcity.craigslist.org/ctd/d/sherman...   \n",
              "...          ...                                                ...   \n",
              "9789  7313487583  https://springfield.craigslist.org/cto/d/mount...   \n",
              "9823  7311566144  https://chico.craigslist.org/cto/d/chico-1994-...   \n",
              "9846  7313676859  https://reno.craigslist.org/ctd/d/sherman-1984...   \n",
              "9874  7316458200  https://portland.craigslist.org/mlt/cto/d/port...   \n",
              "9892  7316175335  https://orangecounty.craigslist.org/cto/d/hunt...   \n",
              "\n",
              "                    region                           region_url  price  year  \\\n",
              "13          seattle-tacoma       https://seattle.craigslist.org  14995  1994   \n",
              "21                 madison       https://madison.craigslist.org  89995  1970   \n",
              "57           inland empire  https://inlandempire.craigslist.org  69888  1948   \n",
              "66           hudson valley  https://hudsonvalley.craigslist.org   5500  1990   \n",
              "106   rapid city / west SD     https://rapidcity.craigslist.org  43500  1968   \n",
              "...                    ...                                  ...    ...   ...   \n",
              "9789           springfield   https://springfield.craigslist.org   3500  1974   \n",
              "9823                 chico         https://chico.craigslist.org  16000  1994   \n",
              "9846          reno / tahoe          https://reno.craigslist.org  26500  1984   \n",
              "9874              portland      https://portland.craigslist.org  18500  1972   \n",
              "9892         orange county  https://orangecounty.craigslist.org   1575  1988   \n",
              "\n",
              "     manufacturer                                              model fuel  \\\n",
              "13           ford  e-series van universal by glaval designer luxu...  gas   \n",
              "21          other                                     oldsmobile 442  gas   \n",
              "57           ford                                                coe  gas   \n",
              "66          other                                           Diahatsu  gas   \n",
              "106     chevrolet                                             camaro  gas   \n",
              "...           ...                                                ...  ...   \n",
              "9789         jeep                                                cj5  gas   \n",
              "9823         ford                                               f250  gas   \n",
              "9846    chevrolet                                          silverado  gas   \n",
              "9874    chevrolet                                              other  gas   \n",
              "9892        other                                         1988 Nisan  gas   \n",
              "\n",
              "      odometer title_status transmission  \\\n",
              "13      156925        clean    automatic   \n",
              "21      111111        clean    automatic   \n",
              "57           1        clean    automatic   \n",
              "66       30000        clean       manual   \n",
              "106      43320        clean       manual   \n",
              "...        ...          ...          ...   \n",
              "9789     10000        clean       manual   \n",
              "9823     32500        clean    automatic   \n",
              "9846     38751        clean    automatic   \n",
              "9874     75000        clean    automatic   \n",
              "9892    120000        clean       manual   \n",
              "\n",
              "                                              image_url  \\\n",
              "13    https://images.craigslist.org/00r0r_13JUlXZOMl...   \n",
              "21    https://images.craigslist.org/00S0S_agk7Nol4CO...   \n",
              "57    https://images.craigslist.org/00M0M_8jgBCZZuG6...   \n",
              "66    https://images.craigslist.org/00T0T_a4VRbx40ea...   \n",
              "106   https://images.craigslist.org/00h0h_2N66LMJBAI...   \n",
              "...                                                 ...   \n",
              "9789  https://images.craigslist.org/00G0G_cdxzaTaVqa...   \n",
              "9823  https://images.craigslist.org/01010_343KkgTaHo...   \n",
              "9846  https://images.craigslist.org/00r0r_czXfi4UeJF...   \n",
              "9874  https://images.craigslist.org/00x0x_7FqS8iHJst...   \n",
              "9892  https://images.craigslist.org/00B0B_5t6BpiGoz9...   \n",
              "\n",
              "                                            description state        lat  \\\n",
              "13    Priced to Sell: $14,9951994 Ford E-Series Van ...    wa  45.391373   \n",
              "21    1970 Oldsmobile 442 Convertible 442 Indy Pace ...    wi  43.098400   \n",
              "57    Awesome Resto-Mod COE Ford Car Hauler. Equippe...    ca  33.680100   \n",
              "66    1991 Daihatsu hijet 5 speed extended cab....im...    ny  41.564400   \n",
              "106   1968 Chevrolet Camaro Convertible. VIN:124678N...    sd  33.637200   \n",
              "...                                                 ...   ...        ...   \n",
              "9789  1974 Jeep cj5  304 v8  4speed manual trans  Da...    mo  36.331200   \n",
              "9823  Up for sale is this 32,000 original mile Ford ...    ca  39.745800   \n",
              "9846  1984 Chevrolet C10 Silverado, short wheelbase ...    ca  33.637200   \n",
              "9874  1972 classic Chevrolet pick up custom  deluxe ...    or  45.494960   \n",
              "9892  Really good running 88 Nissan. Has Sun roof. B...    ca  33.654019   \n",
              "\n",
              "            long              posting_date price_category  \\\n",
              "13   -122.613533  2021-05-04T20:22:11-0700         medium   \n",
              "21    -89.273400  2021-04-25T10:10:43-0500           high   \n",
              "57   -117.908500  2021-04-29T10:49:29-0700           high   \n",
              "66    -74.430400  2021-04-20T18:30:18-0400            low   \n",
              "106   -96.618400  2021-04-29T15:11:01-0600           high   \n",
              "...          ...                       ...            ...   \n",
              "9789  -92.375300  2021-04-27T14:30:28-0500            low   \n",
              "9823 -121.844400  2021-04-23T13:51:20-0700         medium   \n",
              "9846  -96.618400  2021-04-27T19:44:27-0700           high   \n",
              "9874 -122.666988  2021-05-03T14:58:34-0700         medium   \n",
              "9892 -117.980606  2021-05-03T07:19:18-0700            low   \n",
              "\n",
              "                           date  \n",
              "13    2021-05-05 03:22:11+00:00  \n",
              "21    2021-04-25 15:10:43+00:00  \n",
              "57    2021-04-29 17:49:29+00:00  \n",
              "66    2021-04-20 22:30:18+00:00  \n",
              "106   2021-04-29 21:11:01+00:00  \n",
              "...                         ...  \n",
              "9789  2021-04-27 19:30:28+00:00  \n",
              "9823  2021-04-23 20:51:20+00:00  \n",
              "9846  2021-04-28 02:44:27+00:00  \n",
              "9874  2021-05-03 21:58:34+00:00  \n",
              "9892  2021-05-03 14:19:18+00:00  \n",
              "\n",
              "[394 rows x 20 columns]"
            ],
            "text/html": [
              "\n",
              "  <div id=\"df-6bbc7562-5faa-47c0-bb4f-22096e0f231f\">\n",
              "    <div class=\"colab-df-container\">\n",
              "      <div>\n",
              "<style scoped>\n",
              "    .dataframe tbody tr th:only-of-type {\n",
              "        vertical-align: middle;\n",
              "    }\n",
              "\n",
              "    .dataframe tbody tr th {\n",
              "        vertical-align: top;\n",
              "    }\n",
              "\n",
              "    .dataframe thead th {\n",
              "        text-align: right;\n",
              "    }\n",
              "</style>\n",
              "<table border=\"1\" class=\"dataframe\">\n",
              "  <thead>\n",
              "    <tr style=\"text-align: right;\">\n",
              "      <th></th>\n",
              "      <th>id</th>\n",
              "      <th>url</th>\n",
              "      <th>region</th>\n",
              "      <th>region_url</th>\n",
              "      <th>price</th>\n",
              "      <th>year</th>\n",
              "      <th>manufacturer</th>\n",
              "      <th>model</th>\n",
              "      <th>fuel</th>\n",
              "      <th>odometer</th>\n",
              "      <th>title_status</th>\n",
              "      <th>transmission</th>\n",
              "      <th>image_url</th>\n",
              "      <th>description</th>\n",
              "      <th>state</th>\n",
              "      <th>lat</th>\n",
              "      <th>long</th>\n",
              "      <th>posting_date</th>\n",
              "      <th>price_category</th>\n",
              "      <th>date</th>\n",
              "    </tr>\n",
              "  </thead>\n",
              "  <tbody>\n",
              "    <tr>\n",
              "      <th>13</th>\n",
              "      <td>7317089086</td>\n",
              "      <td>https://seattle.craigslist.org/see/ctd/d/portl...</td>\n",
              "      <td>seattle-tacoma</td>\n",
              "      <td>https://seattle.craigslist.org</td>\n",
              "      <td>14995</td>\n",
              "      <td>1994</td>\n",
              "      <td>ford</td>\n",
              "      <td>e-series van universal by glaval designer luxu...</td>\n",
              "      <td>gas</td>\n",
              "      <td>156925</td>\n",
              "      <td>clean</td>\n",
              "      <td>automatic</td>\n",
              "      <td>https://images.craigslist.org/00r0r_13JUlXZOMl...</td>\n",
              "      <td>Priced to Sell: $14,9951994 Ford E-Series Van ...</td>\n",
              "      <td>wa</td>\n",
              "      <td>45.391373</td>\n",
              "      <td>-122.613533</td>\n",
              "      <td>2021-05-04T20:22:11-0700</td>\n",
              "      <td>medium</td>\n",
              "      <td>2021-05-05 03:22:11+00:00</td>\n",
              "    </tr>\n",
              "    <tr>\n",
              "      <th>21</th>\n",
              "      <td>7312327909</td>\n",
              "      <td>https://madison.craigslist.org/cto/d/madison-1...</td>\n",
              "      <td>madison</td>\n",
              "      <td>https://madison.craigslist.org</td>\n",
              "      <td>89995</td>\n",
              "      <td>1970</td>\n",
              "      <td>other</td>\n",
              "      <td>oldsmobile 442</td>\n",
              "      <td>gas</td>\n",
              "      <td>111111</td>\n",
              "      <td>clean</td>\n",
              "      <td>automatic</td>\n",
              "      <td>https://images.craigslist.org/00S0S_agk7Nol4CO...</td>\n",
              "      <td>1970 Oldsmobile 442 Convertible 442 Indy Pace ...</td>\n",
              "      <td>wi</td>\n",
              "      <td>43.098400</td>\n",
              "      <td>-89.273400</td>\n",
              "      <td>2021-04-25T10:10:43-0500</td>\n",
              "      <td>high</td>\n",
              "      <td>2021-04-25 15:10:43+00:00</td>\n",
              "    </tr>\n",
              "    <tr>\n",
              "      <th>57</th>\n",
              "      <td>7314413105</td>\n",
              "      <td>https://inlandempire.craigslist.org/ctd/d/cost...</td>\n",
              "      <td>inland empire</td>\n",
              "      <td>https://inlandempire.craigslist.org</td>\n",
              "      <td>69888</td>\n",
              "      <td>1948</td>\n",
              "      <td>ford</td>\n",
              "      <td>coe</td>\n",
              "      <td>gas</td>\n",
              "      <td>1</td>\n",
              "      <td>clean</td>\n",
              "      <td>automatic</td>\n",
              "      <td>https://images.craigslist.org/00M0M_8jgBCZZuG6...</td>\n",
              "      <td>Awesome Resto-Mod COE Ford Car Hauler. Equippe...</td>\n",
              "      <td>ca</td>\n",
              "      <td>33.680100</td>\n",
              "      <td>-117.908500</td>\n",
              "      <td>2021-04-29T10:49:29-0700</td>\n",
              "      <td>high</td>\n",
              "      <td>2021-04-29 17:49:29+00:00</td>\n",
              "    </tr>\n",
              "    <tr>\n",
              "      <th>66</th>\n",
              "      <td>7310077530</td>\n",
              "      <td>https://hudsonvalley.craigslist.org/cto/d/bloo...</td>\n",
              "      <td>hudson valley</td>\n",
              "      <td>https://hudsonvalley.craigslist.org</td>\n",
              "      <td>5500</td>\n",
              "      <td>1990</td>\n",
              "      <td>other</td>\n",
              "      <td>Diahatsu</td>\n",
              "      <td>gas</td>\n",
              "      <td>30000</td>\n",
              "      <td>clean</td>\n",
              "      <td>manual</td>\n",
              "      <td>https://images.craigslist.org/00T0T_a4VRbx40ea...</td>\n",
              "      <td>1991 Daihatsu hijet 5 speed extended cab....im...</td>\n",
              "      <td>ny</td>\n",
              "      <td>41.564400</td>\n",
              "      <td>-74.430400</td>\n",
              "      <td>2021-04-20T18:30:18-0400</td>\n",
              "      <td>low</td>\n",
              "      <td>2021-04-20 22:30:18+00:00</td>\n",
              "    </tr>\n",
              "    <tr>\n",
              "      <th>106</th>\n",
              "      <td>7314527175</td>\n",
              "      <td>https://rapidcity.craigslist.org/ctd/d/sherman...</td>\n",
              "      <td>rapid city / west SD</td>\n",
              "      <td>https://rapidcity.craigslist.org</td>\n",
              "      <td>43500</td>\n",
              "      <td>1968</td>\n",
              "      <td>chevrolet</td>\n",
              "      <td>camaro</td>\n",
              "      <td>gas</td>\n",
              "      <td>43320</td>\n",
              "      <td>clean</td>\n",
              "      <td>manual</td>\n",
              "      <td>https://images.craigslist.org/00h0h_2N66LMJBAI...</td>\n",
              "      <td>1968 Chevrolet Camaro Convertible. VIN:124678N...</td>\n",
              "      <td>sd</td>\n",
              "      <td>33.637200</td>\n",
              "      <td>-96.618400</td>\n",
              "      <td>2021-04-29T15:11:01-0600</td>\n",
              "      <td>high</td>\n",
              "      <td>2021-04-29 21:11:01+00:00</td>\n",
              "    </tr>\n",
              "    <tr>\n",
              "      <th>...</th>\n",
              "      <td>...</td>\n",
              "      <td>...</td>\n",
              "      <td>...</td>\n",
              "      <td>...</td>\n",
              "      <td>...</td>\n",
              "      <td>...</td>\n",
              "      <td>...</td>\n",
              "      <td>...</td>\n",
              "      <td>...</td>\n",
              "      <td>...</td>\n",
              "      <td>...</td>\n",
              "      <td>...</td>\n",
              "      <td>...</td>\n",
              "      <td>...</td>\n",
              "      <td>...</td>\n",
              "      <td>...</td>\n",
              "      <td>...</td>\n",
              "      <td>...</td>\n",
              "      <td>...</td>\n",
              "      <td>...</td>\n",
              "    </tr>\n",
              "    <tr>\n",
              "      <th>9789</th>\n",
              "      <td>7313487583</td>\n",
              "      <td>https://springfield.craigslist.org/cto/d/mount...</td>\n",
              "      <td>springfield</td>\n",
              "      <td>https://springfield.craigslist.org</td>\n",
              "      <td>3500</td>\n",
              "      <td>1974</td>\n",
              "      <td>jeep</td>\n",
              "      <td>cj5</td>\n",
              "      <td>gas</td>\n",
              "      <td>10000</td>\n",
              "      <td>clean</td>\n",
              "      <td>manual</td>\n",
              "      <td>https://images.craigslist.org/00G0G_cdxzaTaVqa...</td>\n",
              "      <td>1974 Jeep cj5  304 v8  4speed manual trans  Da...</td>\n",
              "      <td>mo</td>\n",
              "      <td>36.331200</td>\n",
              "      <td>-92.375300</td>\n",
              "      <td>2021-04-27T14:30:28-0500</td>\n",
              "      <td>low</td>\n",
              "      <td>2021-04-27 19:30:28+00:00</td>\n",
              "    </tr>\n",
              "    <tr>\n",
              "      <th>9823</th>\n",
              "      <td>7311566144</td>\n",
              "      <td>https://chico.craigslist.org/cto/d/chico-1994-...</td>\n",
              "      <td>chico</td>\n",
              "      <td>https://chico.craigslist.org</td>\n",
              "      <td>16000</td>\n",
              "      <td>1994</td>\n",
              "      <td>ford</td>\n",
              "      <td>f250</td>\n",
              "      <td>gas</td>\n",
              "      <td>32500</td>\n",
              "      <td>clean</td>\n",
              "      <td>automatic</td>\n",
              "      <td>https://images.craigslist.org/01010_343KkgTaHo...</td>\n",
              "      <td>Up for sale is this 32,000 original mile Ford ...</td>\n",
              "      <td>ca</td>\n",
              "      <td>39.745800</td>\n",
              "      <td>-121.844400</td>\n",
              "      <td>2021-04-23T13:51:20-0700</td>\n",
              "      <td>medium</td>\n",
              "      <td>2021-04-23 20:51:20+00:00</td>\n",
              "    </tr>\n",
              "    <tr>\n",
              "      <th>9846</th>\n",
              "      <td>7313676859</td>\n",
              "      <td>https://reno.craigslist.org/ctd/d/sherman-1984...</td>\n",
              "      <td>reno / tahoe</td>\n",
              "      <td>https://reno.craigslist.org</td>\n",
              "      <td>26500</td>\n",
              "      <td>1984</td>\n",
              "      <td>chevrolet</td>\n",
              "      <td>silverado</td>\n",
              "      <td>gas</td>\n",
              "      <td>38751</td>\n",
              "      <td>clean</td>\n",
              "      <td>automatic</td>\n",
              "      <td>https://images.craigslist.org/00r0r_czXfi4UeJF...</td>\n",
              "      <td>1984 Chevrolet C10 Silverado, short wheelbase ...</td>\n",
              "      <td>ca</td>\n",
              "      <td>33.637200</td>\n",
              "      <td>-96.618400</td>\n",
              "      <td>2021-04-27T19:44:27-0700</td>\n",
              "      <td>high</td>\n",
              "      <td>2021-04-28 02:44:27+00:00</td>\n",
              "    </tr>\n",
              "    <tr>\n",
              "      <th>9874</th>\n",
              "      <td>7316458200</td>\n",
              "      <td>https://portland.craigslist.org/mlt/cto/d/port...</td>\n",
              "      <td>portland</td>\n",
              "      <td>https://portland.craigslist.org</td>\n",
              "      <td>18500</td>\n",
              "      <td>1972</td>\n",
              "      <td>chevrolet</td>\n",
              "      <td>other</td>\n",
              "      <td>gas</td>\n",
              "      <td>75000</td>\n",
              "      <td>clean</td>\n",
              "      <td>automatic</td>\n",
              "      <td>https://images.craigslist.org/00x0x_7FqS8iHJst...</td>\n",
              "      <td>1972 classic Chevrolet pick up custom  deluxe ...</td>\n",
              "      <td>or</td>\n",
              "      <td>45.494960</td>\n",
              "      <td>-122.666988</td>\n",
              "      <td>2021-05-03T14:58:34-0700</td>\n",
              "      <td>medium</td>\n",
              "      <td>2021-05-03 21:58:34+00:00</td>\n",
              "    </tr>\n",
              "    <tr>\n",
              "      <th>9892</th>\n",
              "      <td>7316175335</td>\n",
              "      <td>https://orangecounty.craigslist.org/cto/d/hunt...</td>\n",
              "      <td>orange county</td>\n",
              "      <td>https://orangecounty.craigslist.org</td>\n",
              "      <td>1575</td>\n",
              "      <td>1988</td>\n",
              "      <td>other</td>\n",
              "      <td>1988 Nisan</td>\n",
              "      <td>gas</td>\n",
              "      <td>120000</td>\n",
              "      <td>clean</td>\n",
              "      <td>manual</td>\n",
              "      <td>https://images.craigslist.org/00B0B_5t6BpiGoz9...</td>\n",
              "      <td>Really good running 88 Nissan. Has Sun roof. B...</td>\n",
              "      <td>ca</td>\n",
              "      <td>33.654019</td>\n",
              "      <td>-117.980606</td>\n",
              "      <td>2021-05-03T07:19:18-0700</td>\n",
              "      <td>low</td>\n",
              "      <td>2021-05-03 14:19:18+00:00</td>\n",
              "    </tr>\n",
              "  </tbody>\n",
              "</table>\n",
              "<p>394 rows × 20 columns</p>\n",
              "</div>\n",
              "      <button class=\"colab-df-convert\" onclick=\"convertToInteractive('df-6bbc7562-5faa-47c0-bb4f-22096e0f231f')\"\n",
              "              title=\"Convert this dataframe to an interactive table.\"\n",
              "              style=\"display:none;\">\n",
              "        \n",
              "  <svg xmlns=\"http://www.w3.org/2000/svg\" height=\"24px\"viewBox=\"0 0 24 24\"\n",
              "       width=\"24px\">\n",
              "    <path d=\"M0 0h24v24H0V0z\" fill=\"none\"/>\n",
              "    <path d=\"M18.56 5.44l.94 2.06.94-2.06 2.06-.94-2.06-.94-.94-2.06-.94 2.06-2.06.94zm-11 1L8.5 8.5l.94-2.06 2.06-.94-2.06-.94L8.5 2.5l-.94 2.06-2.06.94zm10 10l.94 2.06.94-2.06 2.06-.94-2.06-.94-.94-2.06-.94 2.06-2.06.94z\"/><path d=\"M17.41 7.96l-1.37-1.37c-.4-.4-.92-.59-1.43-.59-.52 0-1.04.2-1.43.59L10.3 9.45l-7.72 7.72c-.78.78-.78 2.05 0 2.83L4 21.41c.39.39.9.59 1.41.59.51 0 1.02-.2 1.41-.59l7.78-7.78 2.81-2.81c.8-.78.8-2.07 0-2.86zM5.41 20L4 18.59l7.72-7.72 1.47 1.35L5.41 20z\"/>\n",
              "  </svg>\n",
              "      </button>\n",
              "      \n",
              "  <style>\n",
              "    .colab-df-container {\n",
              "      display:flex;\n",
              "      flex-wrap:wrap;\n",
              "      gap: 12px;\n",
              "    }\n",
              "\n",
              "    .colab-df-convert {\n",
              "      background-color: #E8F0FE;\n",
              "      border: none;\n",
              "      border-radius: 50%;\n",
              "      cursor: pointer;\n",
              "      display: none;\n",
              "      fill: #1967D2;\n",
              "      height: 32px;\n",
              "      padding: 0 0 0 0;\n",
              "      width: 32px;\n",
              "    }\n",
              "\n",
              "    .colab-df-convert:hover {\n",
              "      background-color: #E2EBFA;\n",
              "      box-shadow: 0px 1px 2px rgba(60, 64, 67, 0.3), 0px 1px 3px 1px rgba(60, 64, 67, 0.15);\n",
              "      fill: #174EA6;\n",
              "    }\n",
              "\n",
              "    [theme=dark] .colab-df-convert {\n",
              "      background-color: #3B4455;\n",
              "      fill: #D2E3FC;\n",
              "    }\n",
              "\n",
              "    [theme=dark] .colab-df-convert:hover {\n",
              "      background-color: #434B5C;\n",
              "      box-shadow: 0px 1px 3px 1px rgba(0, 0, 0, 0.15);\n",
              "      filter: drop-shadow(0px 1px 2px rgba(0, 0, 0, 0.3));\n",
              "      fill: #FFFFFF;\n",
              "    }\n",
              "  </style>\n",
              "\n",
              "      <script>\n",
              "        const buttonEl =\n",
              "          document.querySelector('#df-6bbc7562-5faa-47c0-bb4f-22096e0f231f button.colab-df-convert');\n",
              "        buttonEl.style.display =\n",
              "          google.colab.kernel.accessAllowed ? 'block' : 'none';\n",
              "\n",
              "        async function convertToInteractive(key) {\n",
              "          const element = document.querySelector('#df-6bbc7562-5faa-47c0-bb4f-22096e0f231f');\n",
              "          const dataTable =\n",
              "            await google.colab.kernel.invokeFunction('convertToInteractive',\n",
              "                                                     [key], {});\n",
              "          if (!dataTable) return;\n",
              "\n",
              "          const docLinkHtml = 'Like what you see? Visit the ' +\n",
              "            '<a target=\"_blank\" href=https://colab.research.google.com/notebooks/data_table.ipynb>data table notebook</a>'\n",
              "            + ' to learn more about interactive tables.';\n",
              "          element.innerHTML = '';\n",
              "          dataTable['output_type'] = 'display_data';\n",
              "          await google.colab.output.renderOutput(dataTable, element);\n",
              "          const docLink = document.createElement('div');\n",
              "          docLink.innerHTML = docLinkHtml;\n",
              "          element.appendChild(docLink);\n",
              "        }\n",
              "      </script>\n",
              "    </div>\n",
              "  </div>\n",
              "  "
            ]
          },
          "metadata": {},
          "execution_count": 96
        }
      ],
      "source": [
        "df_out = df[is_outl]\n",
        "df_out"
      ]
    },
    {
      "cell_type": "markdown",
      "id": "0ba3cb06",
      "metadata": {
        "id": "0ba3cb06"
      },
      "source": [
        "6. Выведите количество значений для категории цены для записей, в которых год выпуска автомобиля является выбросом. Описывают ли аномальные значения года выпуска какое-либо из значений цены автомобиля лучше, чем остальные?\n"
      ]
    },
    {
      "cell_type": "code",
      "execution_count": 98,
      "id": "b08f5fbf",
      "metadata": {
        "id": "b08f5fbf",
        "colab": {
          "base_uri": "https://localhost:8080/"
        },
        "outputId": "6617e530-beb3-436e-f598-6b019e486ab6"
      },
      "outputs": [
        {
          "output_type": "execute_result",
          "data": {
            "text/plain": [
              "low       181\n",
              "medium    135\n",
              "high       78\n",
              "Name: price_category, dtype: int64"
            ]
          },
          "metadata": {},
          "execution_count": 98
        }
      ],
      "source": [
        "df_out.price_category.value_counts()"
      ]
    },
    {
      "cell_type": "markdown",
      "id": "d8ff39fb",
      "metadata": {
        "id": "d8ff39fb"
      },
      "source": [
        "7. Так как выбросы в годе выпуска находятся среди минимальных значений, заполните те значения, которые являются выбросами, значением нижней границы. Не забудьте учесть, что год должен быть целочисленным значением, входящим в границы нормальных значений.\n"
      ]
    },
    {
      "cell_type": "code",
      "execution_count": 114,
      "id": "ee5b1f54",
      "metadata": {
        "id": "ee5b1f54"
      },
      "outputs": [],
      "source": [
        "df.loc[is_outl, 'year'] = int(math.ceil(boundaries[0]))"
      ]
    },
    {
      "cell_type": "markdown",
      "id": "37f3e174",
      "metadata": {
        "id": "37f3e174"
      },
      "source": [
        "8. Выведите ещё раз описательные статистики для года выпуска автомобиля, чтобы проверить, что теперь все значения года входят в границы нормальных значений."
      ]
    },
    {
      "cell_type": "code",
      "execution_count": 115,
      "id": "8298942d",
      "metadata": {
        "id": "8298942d",
        "colab": {
          "base_uri": "https://localhost:8080/"
        },
        "outputId": "51fe0a8a-af56-480f-edde-7d5fcd6d115e"
      },
      "outputs": [
        {
          "output_type": "execute_result",
          "data": {
            "text/plain": [
              "count    9868.000000\n",
              "mean     2011.698318\n",
              "std         6.425102\n",
              "min      1995.000000\n",
              "25%      2008.000000\n",
              "50%      2013.000000\n",
              "75%      2017.000000\n",
              "max      2022.000000\n",
              "Name: year, dtype: float64"
            ]
          },
          "metadata": {},
          "execution_count": 115
        }
      ],
      "source": [
        "df.year.describe()"
      ]
    },
    {
      "cell_type": "markdown",
      "id": "bc20060a",
      "metadata": {
        "id": "bc20060a"
      },
      "source": [
        "## Дополнительные задачи"
      ]
    },
    {
      "cell_type": "markdown",
      "id": "c487f4c6",
      "metadata": {
        "id": "c487f4c6"
      },
      "source": [
        "### Задача 9. Загрузка датафрейма с параметрами преобразования\n",
        "\n",
        "Некоторые преобразования признаков можно сделать ещё в момент загрузки датафрейма из файла.\n",
        "\n",
        "1. Прочитайте в новый датафрейм файл `data/vehicles_dataset.csv`, выбрав только нужные колонки и применив приведение типов данных. Обратитесь к [документации](https://pandas.pydata.org/docs/reference/api/pandas.read_csv.html), чтобы узнать, за что отвечают параметры `usecols`,  `parse_dates` и `dtype`.\n",
        "\n",
        "\n",
        "Датафрейм должен содержать:\n",
        "- колонки `price`, `year`, `posting_date`;\n",
        "- `posting_date` в datatime-формате;\n",
        "- `price` в вещественном формате;\n",
        "- `year` в целочисленном формате.\n",
        "\n",
        "Возможно, вы столкнётесь с ошибкой при считывании года в виде целого числа. Подробнее о том, как бороться с этой ошибкой, можно узнать в документации по `обнуляемому целочисленному типу данных`:\n",
        "- https://pandas.pydata.org/pandas-docs/stable/user_guide/integer_na.html\n",
        "\n",
        "*Подсказка:* Pandas может представлять целочисленные данные с возможными отсутствующими значениями, используя [arrays.IntegerArray](https://pandas.pydata.org/pandas-docs/stable/reference/api/pandas.arrays.IntegerArray.html#pandas.arrays.IntegerArray) или его псевдонимы, которые вы сможете найти в документации."
      ]
    },
    {
      "cell_type": "code",
      "execution_count": null,
      "id": "82f71c41",
      "metadata": {
        "id": "82f71c41"
      },
      "outputs": [],
      "source": [
        "# Ваш код здесь"
      ]
    },
    {
      "cell_type": "markdown",
      "id": "505694a3",
      "metadata": {
        "ExecuteTime": {
          "end_time": "2022-01-30T21:11:12.586710Z",
          "start_time": "2022-01-30T21:11:12.579544Z"
        },
        "id": "505694a3"
      },
      "source": [
        "2. Выведите информацию о датафрейме, чтобы убедиться, что признаки при загрузке преобразовались верно.\n"
      ]
    },
    {
      "cell_type": "code",
      "execution_count": null,
      "id": "e7c59b87",
      "metadata": {
        "id": "e7c59b87"
      },
      "outputs": [],
      "source": [
        "# Ваш код здесь"
      ]
    },
    {
      "cell_type": "markdown",
      "id": "2e41b4f8",
      "metadata": {
        "id": "2e41b4f8"
      },
      "source": [
        "3. Для первой записи в датафрейме извлеките из `posting_date` и выведите номер месяца.\n"
      ]
    },
    {
      "cell_type": "code",
      "execution_count": null,
      "id": "17ea2615",
      "metadata": {
        "id": "17ea2615"
      },
      "outputs": [],
      "source": [
        "# Ваш код здесь"
      ]
    }
  ],
  "metadata": {
    "colab": {
      "provenance": []
    },
    "kernelspec": {
      "display_name": "Python 3",
      "language": "python",
      "name": "python3"
    },
    "language_info": {
      "codemirror_mode": {
        "name": "ipython",
        "version": 3
      },
      "file_extension": ".py",
      "mimetype": "text/x-python",
      "name": "python",
      "nbconvert_exporter": "python",
      "pygments_lexer": "ipython3",
      "version": "3.8.13"
    },
    "toc": {
      "base_numbering": 1,
      "nav_menu": {},
      "number_sections": true,
      "sideBar": true,
      "skip_h1_title": false,
      "title_cell": "Table of Contents",
      "title_sidebar": "Contents",
      "toc_cell": false,
      "toc_position": {},
      "toc_section_display": true,
      "toc_window_display": false
    }
  },
  "nbformat": 4,
  "nbformat_minor": 5
}